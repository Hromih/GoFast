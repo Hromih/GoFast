{
 "cells": [
  {
   "cell_type": "markdown",
   "id": "ead586c9",
   "metadata": {},
   "source": [
    "# Анализ сервиса аренды самокатов GoFast"
   ]
  },
  {
   "cell_type": "markdown",
   "id": "78ee83ac",
   "metadata": {},
   "source": [
    "В данном проекте мне - аналитику популярного сервиса аренды самокатов GoFast - передали данные о некоторых пользователях из нескольких городов, а также об их поездках. Необходимо проанализировать данные и проверить некоторые гипотезы, которые могут помочь бизнесу вырасти.\n",
    "\n",
    "Чтобы совершать поездки по городу, пользователи сервиса GoFast пользуются мобильным приложением. Сервисом можно пользоваться:\n",
    "\n",
    "без подписки\n",
    "абонентская плата отсутствует;\n",
    "стоимость одной минуты поездки — 8 рублей;\n",
    "стоимость старта (начала поездки) — 50 рублей;\n",
    "\n",
    "с подпиской Ultra\n",
    "абонентская плата — 199 рублей в месяц;\n",
    "стоимость одной минуты поездки — 6 рублей;\n",
    "стоимость старта — бесплатно."
   ]
  },
  {
   "cell_type": "code",
   "execution_count": 1,
   "id": "2a67bd61",
   "metadata": {},
   "outputs": [],
   "source": [
    "# Сначала импортируем необходимые библиотеки\n",
    "import pandas as pd\n",
    "import matplotlib.pyplot as plt\n",
    "import numpy as np\n",
    "import scipy.stats as st"
   ]
  },
  {
   "cell_type": "markdown",
   "id": "c1e68b5b",
   "metadata": {},
   "source": [
    "#### Шаг 1. Загрузка данных"
   ]
  },
  {
   "cell_type": "code",
   "execution_count": 2,
   "id": "a70fbd0d",
   "metadata": {},
   "outputs": [
    {
     "data": {
      "text/html": [
       "<div>\n",
       "<style scoped>\n",
       "    .dataframe tbody tr th:only-of-type {\n",
       "        vertical-align: middle;\n",
       "    }\n",
       "\n",
       "    .dataframe tbody tr th {\n",
       "        vertical-align: top;\n",
       "    }\n",
       "\n",
       "    .dataframe thead th {\n",
       "        text-align: right;\n",
       "    }\n",
       "</style>\n",
       "<table border=\"1\" class=\"dataframe\">\n",
       "  <thead>\n",
       "    <tr style=\"text-align: right;\">\n",
       "      <th></th>\n",
       "      <th>user_id</th>\n",
       "      <th>name</th>\n",
       "      <th>age</th>\n",
       "      <th>city</th>\n",
       "      <th>subscription_type</th>\n",
       "    </tr>\n",
       "  </thead>\n",
       "  <tbody>\n",
       "    <tr>\n",
       "      <th>0</th>\n",
       "      <td>1</td>\n",
       "      <td>Кира</td>\n",
       "      <td>22</td>\n",
       "      <td>Тюмень</td>\n",
       "      <td>ultra</td>\n",
       "    </tr>\n",
       "    <tr>\n",
       "      <th>1</th>\n",
       "      <td>2</td>\n",
       "      <td>Станислав</td>\n",
       "      <td>31</td>\n",
       "      <td>Омск</td>\n",
       "      <td>ultra</td>\n",
       "    </tr>\n",
       "    <tr>\n",
       "      <th>2</th>\n",
       "      <td>3</td>\n",
       "      <td>Алексей</td>\n",
       "      <td>20</td>\n",
       "      <td>Москва</td>\n",
       "      <td>ultra</td>\n",
       "    </tr>\n",
       "    <tr>\n",
       "      <th>3</th>\n",
       "      <td>4</td>\n",
       "      <td>Константин</td>\n",
       "      <td>26</td>\n",
       "      <td>Ростов-на-Дону</td>\n",
       "      <td>ultra</td>\n",
       "    </tr>\n",
       "    <tr>\n",
       "      <th>4</th>\n",
       "      <td>5</td>\n",
       "      <td>Адель</td>\n",
       "      <td>28</td>\n",
       "      <td>Омск</td>\n",
       "      <td>ultra</td>\n",
       "    </tr>\n",
       "  </tbody>\n",
       "</table>\n",
       "</div>"
      ],
      "text/plain": [
       "   user_id        name  age            city subscription_type\n",
       "0        1        Кира   22          Тюмень             ultra\n",
       "1        2   Станислав   31            Омск             ultra\n",
       "2        3     Алексей   20          Москва             ultra\n",
       "3        4  Константин   26  Ростов-на-Дону             ultra\n",
       "4        5       Адель   28            Омск             ultra"
      ]
     },
     "metadata": {},
     "output_type": "display_data"
    },
    {
     "data": {
      "text/html": [
       "<div>\n",
       "<style scoped>\n",
       "    .dataframe tbody tr th:only-of-type {\n",
       "        vertical-align: middle;\n",
       "    }\n",
       "\n",
       "    .dataframe tbody tr th {\n",
       "        vertical-align: top;\n",
       "    }\n",
       "\n",
       "    .dataframe thead th {\n",
       "        text-align: right;\n",
       "    }\n",
       "</style>\n",
       "<table border=\"1\" class=\"dataframe\">\n",
       "  <thead>\n",
       "    <tr style=\"text-align: right;\">\n",
       "      <th></th>\n",
       "      <th>user_id</th>\n",
       "      <th>distance</th>\n",
       "      <th>duration</th>\n",
       "      <th>date</th>\n",
       "    </tr>\n",
       "  </thead>\n",
       "  <tbody>\n",
       "    <tr>\n",
       "      <th>0</th>\n",
       "      <td>1</td>\n",
       "      <td>4409.919140</td>\n",
       "      <td>25.599769</td>\n",
       "      <td>2021-01-01</td>\n",
       "    </tr>\n",
       "    <tr>\n",
       "      <th>1</th>\n",
       "      <td>1</td>\n",
       "      <td>2617.592153</td>\n",
       "      <td>15.816871</td>\n",
       "      <td>2021-01-18</td>\n",
       "    </tr>\n",
       "    <tr>\n",
       "      <th>2</th>\n",
       "      <td>1</td>\n",
       "      <td>754.159807</td>\n",
       "      <td>6.232113</td>\n",
       "      <td>2021-04-20</td>\n",
       "    </tr>\n",
       "    <tr>\n",
       "      <th>3</th>\n",
       "      <td>1</td>\n",
       "      <td>2694.783254</td>\n",
       "      <td>18.511000</td>\n",
       "      <td>2021-08-11</td>\n",
       "    </tr>\n",
       "    <tr>\n",
       "      <th>4</th>\n",
       "      <td>1</td>\n",
       "      <td>4028.687306</td>\n",
       "      <td>26.265803</td>\n",
       "      <td>2021-08-28</td>\n",
       "    </tr>\n",
       "  </tbody>\n",
       "</table>\n",
       "</div>"
      ],
      "text/plain": [
       "   user_id     distance   duration        date\n",
       "0        1  4409.919140  25.599769  2021-01-01\n",
       "1        1  2617.592153  15.816871  2021-01-18\n",
       "2        1   754.159807   6.232113  2021-04-20\n",
       "3        1  2694.783254  18.511000  2021-08-11\n",
       "4        1  4028.687306  26.265803  2021-08-28"
      ]
     },
     "metadata": {},
     "output_type": "display_data"
    },
    {
     "data": {
      "text/html": [
       "<div>\n",
       "<style scoped>\n",
       "    .dataframe tbody tr th:only-of-type {\n",
       "        vertical-align: middle;\n",
       "    }\n",
       "\n",
       "    .dataframe tbody tr th {\n",
       "        vertical-align: top;\n",
       "    }\n",
       "\n",
       "    .dataframe thead th {\n",
       "        text-align: right;\n",
       "    }\n",
       "</style>\n",
       "<table border=\"1\" class=\"dataframe\">\n",
       "  <thead>\n",
       "    <tr style=\"text-align: right;\">\n",
       "      <th></th>\n",
       "      <th>subscription_type</th>\n",
       "      <th>minute_price</th>\n",
       "      <th>start_ride_price</th>\n",
       "      <th>subscription_fee</th>\n",
       "    </tr>\n",
       "  </thead>\n",
       "  <tbody>\n",
       "    <tr>\n",
       "      <th>0</th>\n",
       "      <td>free</td>\n",
       "      <td>8</td>\n",
       "      <td>50</td>\n",
       "      <td>0</td>\n",
       "    </tr>\n",
       "    <tr>\n",
       "      <th>1</th>\n",
       "      <td>ultra</td>\n",
       "      <td>6</td>\n",
       "      <td>0</td>\n",
       "      <td>199</td>\n",
       "    </tr>\n",
       "  </tbody>\n",
       "</table>\n",
       "</div>"
      ],
      "text/plain": [
       "  subscription_type  minute_price  start_ride_price  subscription_fee\n",
       "0              free             8                50                 0\n",
       "1             ultra             6                 0               199"
      ]
     },
     "metadata": {},
     "output_type": "display_data"
    },
    {
     "name": "stdout",
     "output_type": "stream",
     "text": [
      "<class 'pandas.core.frame.DataFrame'>\n",
      "RangeIndex: 1565 entries, 0 to 1564\n",
      "Data columns (total 5 columns):\n",
      " #   Column             Non-Null Count  Dtype \n",
      "---  ------             --------------  ----- \n",
      " 0   user_id            1565 non-null   int64 \n",
      " 1   name               1565 non-null   object\n",
      " 2   age                1565 non-null   int64 \n",
      " 3   city               1565 non-null   object\n",
      " 4   subscription_type  1565 non-null   object\n",
      "dtypes: int64(2), object(3)\n",
      "memory usage: 61.3+ KB\n"
     ]
    },
    {
     "data": {
      "text/plain": [
       "None"
      ]
     },
     "metadata": {},
     "output_type": "display_data"
    },
    {
     "name": "stdout",
     "output_type": "stream",
     "text": [
      "<class 'pandas.core.frame.DataFrame'>\n",
      "RangeIndex: 18068 entries, 0 to 18067\n",
      "Data columns (total 4 columns):\n",
      " #   Column    Non-Null Count  Dtype  \n",
      "---  ------    --------------  -----  \n",
      " 0   user_id   18068 non-null  int64  \n",
      " 1   distance  18068 non-null  float64\n",
      " 2   duration  18068 non-null  float64\n",
      " 3   date      18068 non-null  object \n",
      "dtypes: float64(2), int64(1), object(1)\n",
      "memory usage: 564.8+ KB\n"
     ]
    },
    {
     "data": {
      "text/plain": [
       "None"
      ]
     },
     "metadata": {},
     "output_type": "display_data"
    },
    {
     "name": "stdout",
     "output_type": "stream",
     "text": [
      "<class 'pandas.core.frame.DataFrame'>\n",
      "RangeIndex: 2 entries, 0 to 1\n",
      "Data columns (total 4 columns):\n",
      " #   Column             Non-Null Count  Dtype \n",
      "---  ------             --------------  ----- \n",
      " 0   subscription_type  2 non-null      object\n",
      " 1   minute_price       2 non-null      int64 \n",
      " 2   start_ride_price   2 non-null      int64 \n",
      " 3   subscription_fee   2 non-null      int64 \n",
      "dtypes: int64(3), object(1)\n",
      "memory usage: 192.0+ bytes\n"
     ]
    },
    {
     "data": {
      "text/plain": [
       "None"
      ]
     },
     "metadata": {},
     "output_type": "display_data"
    }
   ],
   "source": [
    "#Загружаем исходные таблицы и выводим основную информацию о них\n",
    "users_go = pd.read_csv('/datasets/users_go.csv')\n",
    "riders_go = pd.read_csv('/datasets/rides_go.csv')\n",
    "subscriptions_go = pd.read_csv('/datasets/subscriptions_go.csv')\n",
    "\n",
    "display(users_go.head())\n",
    "display(riders_go.head())\n",
    "display(subscriptions_go.head())\n",
    "\n",
    "display(users_go.info())\n",
    "display(riders_go.info())\n",
    "display(subscriptions_go.info())"
   ]
  },
  {
   "cell_type": "markdown",
   "id": "7bed9c47",
   "metadata": {},
   "source": [
    "На данном этапе обнаружено, что необходимо поменять формат даты. Пропусков не обнаружено, дубликаты на первый взгляд не выявлены. "
   ]
  },
  {
   "cell_type": "markdown",
   "id": "201e9906",
   "metadata": {},
   "source": [
    "#### Шаг 2. Предобработка данных"
   ]
  },
  {
   "cell_type": "code",
   "execution_count": 3,
   "id": "ad44a51a",
   "metadata": {
    "scrolled": false
   },
   "outputs": [
    {
     "name": "stdout",
     "output_type": "stream",
     "text": [
      "<class 'pandas.core.frame.DataFrame'>\n",
      "RangeIndex: 18068 entries, 0 to 18067\n",
      "Data columns (total 4 columns):\n",
      " #   Column    Non-Null Count  Dtype         \n",
      "---  ------    --------------  -----         \n",
      " 0   user_id   18068 non-null  int64         \n",
      " 1   distance  18068 non-null  float64       \n",
      " 2   duration  18068 non-null  float64       \n",
      " 3   date      18068 non-null  datetime64[ns]\n",
      "dtypes: datetime64[ns](1), float64(2), int64(1)\n",
      "memory usage: 564.8 KB\n",
      "None\n"
     ]
    },
    {
     "data": {
      "text/html": [
       "<div>\n",
       "<style scoped>\n",
       "    .dataframe tbody tr th:only-of-type {\n",
       "        vertical-align: middle;\n",
       "    }\n",
       "\n",
       "    .dataframe tbody tr th {\n",
       "        vertical-align: top;\n",
       "    }\n",
       "\n",
       "    .dataframe thead th {\n",
       "        text-align: right;\n",
       "    }\n",
       "</style>\n",
       "<table border=\"1\" class=\"dataframe\">\n",
       "  <thead>\n",
       "    <tr style=\"text-align: right;\">\n",
       "      <th></th>\n",
       "      <th>user_id</th>\n",
       "      <th>distance</th>\n",
       "      <th>duration</th>\n",
       "      <th>date</th>\n",
       "      <th>month</th>\n",
       "    </tr>\n",
       "  </thead>\n",
       "  <tbody>\n",
       "    <tr>\n",
       "      <th>0</th>\n",
       "      <td>1</td>\n",
       "      <td>4409.919140</td>\n",
       "      <td>25.599769</td>\n",
       "      <td>2021-01-01</td>\n",
       "      <td>1</td>\n",
       "    </tr>\n",
       "    <tr>\n",
       "      <th>1</th>\n",
       "      <td>1</td>\n",
       "      <td>2617.592153</td>\n",
       "      <td>15.816871</td>\n",
       "      <td>2021-01-18</td>\n",
       "      <td>1</td>\n",
       "    </tr>\n",
       "    <tr>\n",
       "      <th>2</th>\n",
       "      <td>1</td>\n",
       "      <td>754.159807</td>\n",
       "      <td>6.232113</td>\n",
       "      <td>2021-04-20</td>\n",
       "      <td>4</td>\n",
       "    </tr>\n",
       "    <tr>\n",
       "      <th>3</th>\n",
       "      <td>1</td>\n",
       "      <td>2694.783254</td>\n",
       "      <td>18.511000</td>\n",
       "      <td>2021-08-11</td>\n",
       "      <td>8</td>\n",
       "    </tr>\n",
       "    <tr>\n",
       "      <th>4</th>\n",
       "      <td>1</td>\n",
       "      <td>4028.687306</td>\n",
       "      <td>26.265803</td>\n",
       "      <td>2021-08-28</td>\n",
       "      <td>8</td>\n",
       "    </tr>\n",
       "  </tbody>\n",
       "</table>\n",
       "</div>"
      ],
      "text/plain": [
       "   user_id     distance   duration       date  month\n",
       "0        1  4409.919140  25.599769 2021-01-01      1\n",
       "1        1  2617.592153  15.816871 2021-01-18      1\n",
       "2        1   754.159807   6.232113 2021-04-20      4\n",
       "3        1  2694.783254  18.511000 2021-08-11      8\n",
       "4        1  4028.687306  26.265803 2021-08-28      8"
      ]
     },
     "metadata": {},
     "output_type": "display_data"
    }
   ],
   "source": [
    "#Изменяем формат даты, из данных с датой создаем новый столбец с номером месяца\n",
    "riders_go['date'] = pd.to_datetime(riders_go['date'])\n",
    "print(riders_go.info())\n",
    "\n",
    "riders_go['month'] = riders_go['date'].dt.month\n",
    "display(riders_go.head())"
   ]
  },
  {
   "cell_type": "markdown",
   "id": "77692b08",
   "metadata": {},
   "source": [
    "Формат даты изменен, новый столбец добавлен."
   ]
  },
  {
   "cell_type": "code",
   "execution_count": 4,
   "id": "4804c74b",
   "metadata": {},
   "outputs": [
    {
     "name": "stdout",
     "output_type": "stream",
     "text": [
      "количество дубликатов до удаления: 31\n"
     ]
    }
   ],
   "source": [
    "#Проверяем количество дубликатов\n",
    "d_users = users_go.duplicated().sum()\n",
    "print('количество дубликатов до удаления:', d_users)"
   ]
  },
  {
   "cell_type": "code",
   "execution_count": 5,
   "id": "18ada624",
   "metadata": {},
   "outputs": [
    {
     "name": "stdout",
     "output_type": "stream",
     "text": [
      "дубликаты после удаления: 0\n"
     ]
    }
   ],
   "source": [
    "users_go = users_go.drop_duplicates().reset_index(drop = True)\n",
    "print('дубликаты после удаления:', users_go.duplicated().sum())"
   ]
  },
  {
   "cell_type": "code",
   "execution_count": 6,
   "id": "467eb9da",
   "metadata": {},
   "outputs": [
    {
     "name": "stdout",
     "output_type": "stream",
     "text": [
      "0\n"
     ]
    }
   ],
   "source": [
    "d_riders = riders_go.duplicated().sum()\n",
    "print(d_riders)"
   ]
  },
  {
   "cell_type": "markdown",
   "id": "672473dc",
   "metadata": {},
   "source": [
    "В первой таблице были выявлены и удалены дубликаты, такжы были восстановлены индексы. В других таблицах дубликатов не обнаружено."
   ]
  },
  {
   "cell_type": "markdown",
   "id": "1a0909e6",
   "metadata": {},
   "source": [
    "#### Шаг 3. Исследовательский анализ данных"
   ]
  },
  {
   "cell_type": "code",
   "execution_count": 7,
   "id": "ad0978ae",
   "metadata": {},
   "outputs": [
    {
     "data": {
      "text/plain": [
       "Text(0, 0.5, 'частота встречаемости')"
      ]
     },
     "execution_count": 7,
     "metadata": {},
     "output_type": "execute_result"
    },
    {
     "data": {
      "image/png": "[encoded data removed]",
      "text/plain": [
       "<Figure size 720x288 with 1 Axes>"
      ]
     },
     "metadata": {
      "needs_background": "light"
     },
     "output_type": "display_data"
    }
   ],
   "source": [
    "#Визуализируем информацию о частоте встречаемости городов\n",
    "users_go['city'].hist(bins=32, grid=True, figsize=(10,4))\n",
    "plt.title(\"частота встречаемости городов\")\n",
    "plt.xlabel(\"название города\")\n",
    "plt.ylabel(\"частота встречаемости\")"
   ]
  },
  {
   "cell_type": "markdown",
   "id": "88619225",
   "metadata": {},
   "source": [
    "На графике видно, что чаще всего арендовали самокаты в Пятигорске"
   ]
  },
  {
   "cell_type": "code",
   "execution_count": 8,
   "id": "3a2133d2",
   "metadata": {
    "scrolled": true
   },
   "outputs": [
    {
     "name": "stdout",
     "output_type": "stream",
     "text": [
      "Число пользователей без подписки: 835\n",
      "Число пользователей с подпиской: 699\n"
     ]
    },
    {
     "data": {
      "image/png": "[encoded data removed]",
      "text/plain": [
       "<Figure size 432x288 with 1 Axes>"
      ]
     },
     "metadata": {},
     "output_type": "display_data"
    }
   ],
   "source": [
    "#Посмотрим соотношение пользователей с подпиской (ultra) и без (free)\n",
    "u_count = (users_go['subscription_type'] == 'ultra').sum()\n",
    "f_count = (users_go['subscription_type'] == 'free').sum()\n",
    "print('Число пользователей без подписки:', f_count)\n",
    "print('Число пользователей с подпиской:', u_count)\n",
    "\n",
    "vals = [835, 699]\n",
    "labels = [\"free\", \"ultra\"]\n",
    "plt.pie(vals, labels=labels, autopct='%1.1f%%')\n",
    "plt.title(\"Соотношение пользователей с подпиской (ultra) и без (free)\")\n",
    "plt.show()"
   ]
  },
  {
   "cell_type": "markdown",
   "id": "34059f3d",
   "metadata": {},
   "source": [
    "Чаще всего люди не пользуются подпиской, но разница в количестве не велика."
   ]
  },
  {
   "cell_type": "code",
   "execution_count": 9,
   "id": "ebce9fcc",
   "metadata": {
    "scrolled": true
   },
   "outputs": [
    {
     "data": {
      "image/png": "[encoded data removed]",
      "text/plain": [
       "<Figure size 720x288 with 1 Axes>"
      ]
     },
     "metadata": {
      "needs_background": "light"
     },
     "output_type": "display_data"
    }
   ],
   "source": [
    "#Посмотрим на возраст пользователей\n",
    "users_go['age'].hist(bins=30, grid=True, figsize=(10,4))\n",
    "plt.axvspan(24, 26, color='red', alpha=0.5)\n",
    "plt.title(\"Распределение возраста пользователей\")\n",
    "plt.xlabel(\"Возраст\")\n",
    "plt.ylabel(\"Частота встречаемости\")\n",
    "plt.show()"
   ]
  },
  {
   "cell_type": "markdown",
   "id": "1e71eb83",
   "metadata": {},
   "source": [
    "Самыми частыми клиентами являются люди в возрасте 25 лет"
   ]
  },
  {
   "cell_type": "code",
   "execution_count": 10,
   "id": "8f58381a",
   "metadata": {
    "scrolled": true
   },
   "outputs": [
    {
     "data": {
      "image/png": "[encoded data removed]",
      "text/plain": [
       "<Figure size 720x288 with 1 Axes>"
      ]
     },
     "metadata": {
      "needs_background": "light"
     },
     "output_type": "display_data"
    }
   ],
   "source": [
    "#Визуализируем расстояние, которое проехали пользователи за одну поездку\n",
    "riders_go['distance'].hist(bins=50, grid=True, figsize=(10,4))\n",
    "plt.axvspan(3000, 3200, color='red', alpha=0.5)\n",
    "plt.title(\"Распределение протяженности поездок\")\n",
    "plt.xlabel(\"Расстояние\")\n",
    "plt.ylabel(\"Частота встречаемости\")\n",
    "plt.show()"
   ]
  },
  {
   "cell_type": "markdown",
   "id": "ed7ec78c",
   "metadata": {},
   "source": [
    "На полученном графике видно два пика. По поводу первого пика можно предположить, что люди часто арендовали самокат для того, чтобы доехать до какого-то близкого объекта, либо самокат разряжался или попадал в зону, где движение самоката заблокировано. Самыми частыми оказались поездки протяженностью примерно 3.1 км\n"
   ]
  },
  {
   "cell_type": "code",
   "execution_count": 11,
   "id": "49d3670b",
   "metadata": {
    "scrolled": true
   },
   "outputs": [
    {
     "data": {
      "image/png": "[encoded data removed]",
      "text/plain": [
       "<Figure size 720x288 with 1 Axes>"
      ]
     },
     "metadata": {
      "needs_background": "light"
     },
     "output_type": "display_data"
    }
   ],
   "source": [
    "#Посмотрим на распределение длительности поездок\n",
    "riders_go['duration'].hist(bins=80, grid=True, figsize=(10,4))\n",
    "plt.axvspan(17, 19, color='red', alpha=0.5)\n",
    "plt.title(\"Распределение длительности поездок\")\n",
    "plt.xlabel(\"Длительность, мин.\")\n",
    "plt.ylabel(\"Частота встречаемости\")\n",
    "plt.show()"
   ]
  },
  {
   "cell_type": "markdown",
   "id": "0daab008",
   "metadata": {},
   "source": [
    "На данном графике, как и на графике с длительностью, виден пик с небольшими значениями. Он может быть обоснован теми же причинами. В основном поездка длится 17-19 минут."
   ]
  },
  {
   "cell_type": "markdown",
   "id": "fb15bc89",
   "metadata": {},
   "source": [
    "#### Шаг 4. Объединение данных"
   ]
  },
  {
   "cell_type": "code",
   "execution_count": 12,
   "id": "87b840cd",
   "metadata": {},
   "outputs": [
    {
     "data": {
      "text/html": [
       "<div>\n",
       "<style scoped>\n",
       "    .dataframe tbody tr th:only-of-type {\n",
       "        vertical-align: middle;\n",
       "    }\n",
       "\n",
       "    .dataframe tbody tr th {\n",
       "        vertical-align: top;\n",
       "    }\n",
       "\n",
       "    .dataframe thead th {\n",
       "        text-align: right;\n",
       "    }\n",
       "</style>\n",
       "<table border=\"1\" class=\"dataframe\">\n",
       "  <thead>\n",
       "    <tr style=\"text-align: right;\">\n",
       "      <th></th>\n",
       "      <th>user_id</th>\n",
       "      <th>name</th>\n",
       "      <th>age</th>\n",
       "      <th>city</th>\n",
       "      <th>subscription_type</th>\n",
       "      <th>distance</th>\n",
       "      <th>duration</th>\n",
       "      <th>date</th>\n",
       "      <th>month</th>\n",
       "      <th>minute_price</th>\n",
       "      <th>start_ride_price</th>\n",
       "      <th>subscription_fee</th>\n",
       "    </tr>\n",
       "  </thead>\n",
       "  <tbody>\n",
       "    <tr>\n",
       "      <th>0</th>\n",
       "      <td>1</td>\n",
       "      <td>Кира</td>\n",
       "      <td>22</td>\n",
       "      <td>Тюмень</td>\n",
       "      <td>ultra</td>\n",
       "      <td>4409.919140</td>\n",
       "      <td>26.0</td>\n",
       "      <td>2021-01-01</td>\n",
       "      <td>1</td>\n",
       "      <td>6</td>\n",
       "      <td>0</td>\n",
       "      <td>199</td>\n",
       "    </tr>\n",
       "    <tr>\n",
       "      <th>1</th>\n",
       "      <td>1</td>\n",
       "      <td>Кира</td>\n",
       "      <td>22</td>\n",
       "      <td>Тюмень</td>\n",
       "      <td>ultra</td>\n",
       "      <td>2617.592153</td>\n",
       "      <td>16.0</td>\n",
       "      <td>2021-01-18</td>\n",
       "      <td>1</td>\n",
       "      <td>6</td>\n",
       "      <td>0</td>\n",
       "      <td>199</td>\n",
       "    </tr>\n",
       "    <tr>\n",
       "      <th>2</th>\n",
       "      <td>1</td>\n",
       "      <td>Кира</td>\n",
       "      <td>22</td>\n",
       "      <td>Тюмень</td>\n",
       "      <td>ultra</td>\n",
       "      <td>754.159807</td>\n",
       "      <td>7.0</td>\n",
       "      <td>2021-04-20</td>\n",
       "      <td>4</td>\n",
       "      <td>6</td>\n",
       "      <td>0</td>\n",
       "      <td>199</td>\n",
       "    </tr>\n",
       "    <tr>\n",
       "      <th>3</th>\n",
       "      <td>1</td>\n",
       "      <td>Кира</td>\n",
       "      <td>22</td>\n",
       "      <td>Тюмень</td>\n",
       "      <td>ultra</td>\n",
       "      <td>2694.783254</td>\n",
       "      <td>19.0</td>\n",
       "      <td>2021-08-11</td>\n",
       "      <td>8</td>\n",
       "      <td>6</td>\n",
       "      <td>0</td>\n",
       "      <td>199</td>\n",
       "    </tr>\n",
       "    <tr>\n",
       "      <th>4</th>\n",
       "      <td>1</td>\n",
       "      <td>Кира</td>\n",
       "      <td>22</td>\n",
       "      <td>Тюмень</td>\n",
       "      <td>ultra</td>\n",
       "      <td>4028.687306</td>\n",
       "      <td>27.0</td>\n",
       "      <td>2021-08-28</td>\n",
       "      <td>8</td>\n",
       "      <td>6</td>\n",
       "      <td>0</td>\n",
       "      <td>199</td>\n",
       "    </tr>\n",
       "    <tr>\n",
       "      <th>...</th>\n",
       "      <td>...</td>\n",
       "      <td>...</td>\n",
       "      <td>...</td>\n",
       "      <td>...</td>\n",
       "      <td>...</td>\n",
       "      <td>...</td>\n",
       "      <td>...</td>\n",
       "      <td>...</td>\n",
       "      <td>...</td>\n",
       "      <td>...</td>\n",
       "      <td>...</td>\n",
       "      <td>...</td>\n",
       "    </tr>\n",
       "    <tr>\n",
       "      <th>18063</th>\n",
       "      <td>1534</td>\n",
       "      <td>Альберт</td>\n",
       "      <td>25</td>\n",
       "      <td>Краснодар</td>\n",
       "      <td>free</td>\n",
       "      <td>3781.098080</td>\n",
       "      <td>20.0</td>\n",
       "      <td>2021-11-04</td>\n",
       "      <td>11</td>\n",
       "      <td>8</td>\n",
       "      <td>50</td>\n",
       "      <td>0</td>\n",
       "    </tr>\n",
       "    <tr>\n",
       "      <th>18064</th>\n",
       "      <td>1534</td>\n",
       "      <td>Альберт</td>\n",
       "      <td>25</td>\n",
       "      <td>Краснодар</td>\n",
       "      <td>free</td>\n",
       "      <td>2840.423057</td>\n",
       "      <td>22.0</td>\n",
       "      <td>2021-11-16</td>\n",
       "      <td>11</td>\n",
       "      <td>8</td>\n",
       "      <td>50</td>\n",
       "      <td>0</td>\n",
       "    </tr>\n",
       "    <tr>\n",
       "      <th>18065</th>\n",
       "      <td>1534</td>\n",
       "      <td>Альберт</td>\n",
       "      <td>25</td>\n",
       "      <td>Краснодар</td>\n",
       "      <td>free</td>\n",
       "      <td>3826.185507</td>\n",
       "      <td>19.0</td>\n",
       "      <td>2021-11-18</td>\n",
       "      <td>11</td>\n",
       "      <td>8</td>\n",
       "      <td>50</td>\n",
       "      <td>0</td>\n",
       "    </tr>\n",
       "    <tr>\n",
       "      <th>18066</th>\n",
       "      <td>1534</td>\n",
       "      <td>Альберт</td>\n",
       "      <td>25</td>\n",
       "      <td>Краснодар</td>\n",
       "      <td>free</td>\n",
       "      <td>2902.308661</td>\n",
       "      <td>17.0</td>\n",
       "      <td>2021-11-27</td>\n",
       "      <td>11</td>\n",
       "      <td>8</td>\n",
       "      <td>50</td>\n",
       "      <td>0</td>\n",
       "    </tr>\n",
       "    <tr>\n",
       "      <th>18067</th>\n",
       "      <td>1534</td>\n",
       "      <td>Альберт</td>\n",
       "      <td>25</td>\n",
       "      <td>Краснодар</td>\n",
       "      <td>free</td>\n",
       "      <td>2371.711192</td>\n",
       "      <td>16.0</td>\n",
       "      <td>2021-12-29</td>\n",
       "      <td>12</td>\n",
       "      <td>8</td>\n",
       "      <td>50</td>\n",
       "      <td>0</td>\n",
       "    </tr>\n",
       "  </tbody>\n",
       "</table>\n",
       "<p>18068 rows × 12 columns</p>\n",
       "</div>"
      ],
      "text/plain": [
       "       user_id     name  age       city subscription_type     distance  \\\n",
       "0            1     Кира   22     Тюмень             ultra  4409.919140   \n",
       "1            1     Кира   22     Тюмень             ultra  2617.592153   \n",
       "2            1     Кира   22     Тюмень             ultra   754.159807   \n",
       "3            1     Кира   22     Тюмень             ultra  2694.783254   \n",
       "4            1     Кира   22     Тюмень             ultra  4028.687306   \n",
       "...        ...      ...  ...        ...               ...          ...   \n",
       "18063     1534  Альберт   25  Краснодар              free  3781.098080   \n",
       "18064     1534  Альберт   25  Краснодар              free  2840.423057   \n",
       "18065     1534  Альберт   25  Краснодар              free  3826.185507   \n",
       "18066     1534  Альберт   25  Краснодар              free  2902.308661   \n",
       "18067     1534  Альберт   25  Краснодар              free  2371.711192   \n",
       "\n",
       "       duration       date  month  minute_price  start_ride_price  \\\n",
       "0          26.0 2021-01-01      1             6                 0   \n",
       "1          16.0 2021-01-18      1             6                 0   \n",
       "2           7.0 2021-04-20      4             6                 0   \n",
       "3          19.0 2021-08-11      8             6                 0   \n",
       "4          27.0 2021-08-28      8             6                 0   \n",
       "...         ...        ...    ...           ...               ...   \n",
       "18063      20.0 2021-11-04     11             8                50   \n",
       "18064      22.0 2021-11-16     11             8                50   \n",
       "18065      19.0 2021-11-18     11             8                50   \n",
       "18066      17.0 2021-11-27     11             8                50   \n",
       "18067      16.0 2021-12-29     12             8                50   \n",
       "\n",
       "       subscription_fee  \n",
       "0                   199  \n",
       "1                   199  \n",
       "2                   199  \n",
       "3                   199  \n",
       "4                   199  \n",
       "...                 ...  \n",
       "18063                 0  \n",
       "18064                 0  \n",
       "18065                 0  \n",
       "18066                 0  \n",
       "18067                 0  \n",
       "\n",
       "[18068 rows x 12 columns]"
      ]
     },
     "metadata": {},
     "output_type": "display_data"
    },
    {
     "name": "stdout",
     "output_type": "stream",
     "text": [
      "user_id     18068\n",
      "distance    18068\n",
      "duration    18068\n",
      "date        18068\n",
      "month       18068\n",
      "dtype: int64\n"
     ]
    }
   ],
   "source": [
    "#Объединяем данные из всех таблиц в одну, проверим количество строк до и после объединения\n",
    "data1 = users_go.merge(riders_go)\n",
    "data = data1.merge(subscriptions_go)\n",
    "data['duration'] = np.ceil(data['duration']) \n",
    "display(data)\n",
    "print(riders_go.count())"
   ]
  },
  {
   "cell_type": "markdown",
   "id": "15142f1f",
   "metadata": {},
   "source": [
    "Количество строк до и после объединения проверяли по второй таблице, т.к. она включает в себя максимально широкий спектр информации и показывает нам, сколько строк должно быть. Количество строк совпало, значит данные соединились правильно."
   ]
  },
  {
   "cell_type": "markdown",
   "id": "a621caff",
   "metadata": {},
   "source": [
    "Создадим раздельные таблицы с данными о пользователях с подпиской и без:"
   ]
  },
  {
   "cell_type": "code",
   "execution_count": 13,
   "id": "7429b296",
   "metadata": {},
   "outputs": [
    {
     "data": {
      "text/html": [
       "<div>\n",
       "<style scoped>\n",
       "    .dataframe tbody tr th:only-of-type {\n",
       "        vertical-align: middle;\n",
       "    }\n",
       "\n",
       "    .dataframe tbody tr th {\n",
       "        vertical-align: top;\n",
       "    }\n",
       "\n",
       "    .dataframe thead th {\n",
       "        text-align: right;\n",
       "    }\n",
       "</style>\n",
       "<table border=\"1\" class=\"dataframe\">\n",
       "  <thead>\n",
       "    <tr style=\"text-align: right;\">\n",
       "      <th></th>\n",
       "      <th>user_id</th>\n",
       "      <th>name</th>\n",
       "      <th>age</th>\n",
       "      <th>city</th>\n",
       "      <th>subscription_type</th>\n",
       "      <th>distance</th>\n",
       "      <th>duration</th>\n",
       "      <th>date</th>\n",
       "      <th>month</th>\n",
       "      <th>minute_price</th>\n",
       "      <th>start_ride_price</th>\n",
       "      <th>subscription_fee</th>\n",
       "    </tr>\n",
       "  </thead>\n",
       "  <tbody>\n",
       "    <tr>\n",
       "      <th>0</th>\n",
       "      <td>1</td>\n",
       "      <td>Кира</td>\n",
       "      <td>22</td>\n",
       "      <td>Тюмень</td>\n",
       "      <td>ultra</td>\n",
       "      <td>4409.919140</td>\n",
       "      <td>26.0</td>\n",
       "      <td>2021-01-01</td>\n",
       "      <td>1</td>\n",
       "      <td>6</td>\n",
       "      <td>0</td>\n",
       "      <td>199</td>\n",
       "    </tr>\n",
       "    <tr>\n",
       "      <th>1</th>\n",
       "      <td>1</td>\n",
       "      <td>Кира</td>\n",
       "      <td>22</td>\n",
       "      <td>Тюмень</td>\n",
       "      <td>ultra</td>\n",
       "      <td>2617.592153</td>\n",
       "      <td>16.0</td>\n",
       "      <td>2021-01-18</td>\n",
       "      <td>1</td>\n",
       "      <td>6</td>\n",
       "      <td>0</td>\n",
       "      <td>199</td>\n",
       "    </tr>\n",
       "    <tr>\n",
       "      <th>2</th>\n",
       "      <td>1</td>\n",
       "      <td>Кира</td>\n",
       "      <td>22</td>\n",
       "      <td>Тюмень</td>\n",
       "      <td>ultra</td>\n",
       "      <td>754.159807</td>\n",
       "      <td>7.0</td>\n",
       "      <td>2021-04-20</td>\n",
       "      <td>4</td>\n",
       "      <td>6</td>\n",
       "      <td>0</td>\n",
       "      <td>199</td>\n",
       "    </tr>\n",
       "    <tr>\n",
       "      <th>3</th>\n",
       "      <td>1</td>\n",
       "      <td>Кира</td>\n",
       "      <td>22</td>\n",
       "      <td>Тюмень</td>\n",
       "      <td>ultra</td>\n",
       "      <td>2694.783254</td>\n",
       "      <td>19.0</td>\n",
       "      <td>2021-08-11</td>\n",
       "      <td>8</td>\n",
       "      <td>6</td>\n",
       "      <td>0</td>\n",
       "      <td>199</td>\n",
       "    </tr>\n",
       "    <tr>\n",
       "      <th>4</th>\n",
       "      <td>1</td>\n",
       "      <td>Кира</td>\n",
       "      <td>22</td>\n",
       "      <td>Тюмень</td>\n",
       "      <td>ultra</td>\n",
       "      <td>4028.687306</td>\n",
       "      <td>27.0</td>\n",
       "      <td>2021-08-28</td>\n",
       "      <td>8</td>\n",
       "      <td>6</td>\n",
       "      <td>0</td>\n",
       "      <td>199</td>\n",
       "    </tr>\n",
       "    <tr>\n",
       "      <th>...</th>\n",
       "      <td>...</td>\n",
       "      <td>...</td>\n",
       "      <td>...</td>\n",
       "      <td>...</td>\n",
       "      <td>...</td>\n",
       "      <td>...</td>\n",
       "      <td>...</td>\n",
       "      <td>...</td>\n",
       "      <td>...</td>\n",
       "      <td>...</td>\n",
       "      <td>...</td>\n",
       "      <td>...</td>\n",
       "    </tr>\n",
       "    <tr>\n",
       "      <th>6495</th>\n",
       "      <td>699</td>\n",
       "      <td>Оксана</td>\n",
       "      <td>22</td>\n",
       "      <td>Москва</td>\n",
       "      <td>ultra</td>\n",
       "      <td>3973.046497</td>\n",
       "      <td>25.0</td>\n",
       "      <td>2021-08-29</td>\n",
       "      <td>8</td>\n",
       "      <td>6</td>\n",
       "      <td>0</td>\n",
       "      <td>199</td>\n",
       "    </tr>\n",
       "    <tr>\n",
       "      <th>6496</th>\n",
       "      <td>699</td>\n",
       "      <td>Оксана</td>\n",
       "      <td>22</td>\n",
       "      <td>Москва</td>\n",
       "      <td>ultra</td>\n",
       "      <td>3288.702563</td>\n",
       "      <td>16.0</td>\n",
       "      <td>2021-09-12</td>\n",
       "      <td>9</td>\n",
       "      <td>6</td>\n",
       "      <td>0</td>\n",
       "      <td>199</td>\n",
       "    </tr>\n",
       "    <tr>\n",
       "      <th>6497</th>\n",
       "      <td>699</td>\n",
       "      <td>Оксана</td>\n",
       "      <td>22</td>\n",
       "      <td>Москва</td>\n",
       "      <td>ultra</td>\n",
       "      <td>3076.159348</td>\n",
       "      <td>15.0</td>\n",
       "      <td>2021-09-26</td>\n",
       "      <td>9</td>\n",
       "      <td>6</td>\n",
       "      <td>0</td>\n",
       "      <td>199</td>\n",
       "    </tr>\n",
       "    <tr>\n",
       "      <th>6498</th>\n",
       "      <td>699</td>\n",
       "      <td>Оксана</td>\n",
       "      <td>22</td>\n",
       "      <td>Москва</td>\n",
       "      <td>ultra</td>\n",
       "      <td>4707.845501</td>\n",
       "      <td>16.0</td>\n",
       "      <td>2021-10-17</td>\n",
       "      <td>10</td>\n",
       "      <td>6</td>\n",
       "      <td>0</td>\n",
       "      <td>199</td>\n",
       "    </tr>\n",
       "    <tr>\n",
       "      <th>6499</th>\n",
       "      <td>699</td>\n",
       "      <td>Оксана</td>\n",
       "      <td>22</td>\n",
       "      <td>Москва</td>\n",
       "      <td>ultra</td>\n",
       "      <td>3202.890770</td>\n",
       "      <td>26.0</td>\n",
       "      <td>2021-12-03</td>\n",
       "      <td>12</td>\n",
       "      <td>6</td>\n",
       "      <td>0</td>\n",
       "      <td>199</td>\n",
       "    </tr>\n",
       "  </tbody>\n",
       "</table>\n",
       "<p>6500 rows × 12 columns</p>\n",
       "</div>"
      ],
      "text/plain": [
       "      user_id    name  age    city subscription_type     distance  duration  \\\n",
       "0           1    Кира   22  Тюмень             ultra  4409.919140      26.0   \n",
       "1           1    Кира   22  Тюмень             ultra  2617.592153      16.0   \n",
       "2           1    Кира   22  Тюмень             ultra   754.159807       7.0   \n",
       "3           1    Кира   22  Тюмень             ultra  2694.783254      19.0   \n",
       "4           1    Кира   22  Тюмень             ultra  4028.687306      27.0   \n",
       "...       ...     ...  ...     ...               ...          ...       ...   \n",
       "6495      699  Оксана   22  Москва             ultra  3973.046497      25.0   \n",
       "6496      699  Оксана   22  Москва             ultra  3288.702563      16.0   \n",
       "6497      699  Оксана   22  Москва             ultra  3076.159348      15.0   \n",
       "6498      699  Оксана   22  Москва             ultra  4707.845501      16.0   \n",
       "6499      699  Оксана   22  Москва             ultra  3202.890770      26.0   \n",
       "\n",
       "           date  month  minute_price  start_ride_price  subscription_fee  \n",
       "0    2021-01-01      1             6                 0               199  \n",
       "1    2021-01-18      1             6                 0               199  \n",
       "2    2021-04-20      4             6                 0               199  \n",
       "3    2021-08-11      8             6                 0               199  \n",
       "4    2021-08-28      8             6                 0               199  \n",
       "...         ...    ...           ...               ...               ...  \n",
       "6495 2021-08-29      8             6                 0               199  \n",
       "6496 2021-09-12      9             6                 0               199  \n",
       "6497 2021-09-26      9             6                 0               199  \n",
       "6498 2021-10-17     10             6                 0               199  \n",
       "6499 2021-12-03     12             6                 0               199  \n",
       "\n",
       "[6500 rows x 12 columns]"
      ]
     },
     "metadata": {},
     "output_type": "display_data"
    }
   ],
   "source": [
    "# Пользователи с подпиской\n",
    "data_ultra = data[data['subscription_type'] == 'ultra']\n",
    "display(data_ultra)"
   ]
  },
  {
   "cell_type": "code",
   "execution_count": 14,
   "id": "27996dfa",
   "metadata": {
    "scrolled": true
   },
   "outputs": [
    {
     "data": {
      "image/png": "[encoded data removed]",
      "text/plain": [
       "<Figure size 720x288 with 1 Axes>"
      ]
     },
     "metadata": {
      "needs_background": "light"
     },
     "output_type": "display_data"
    }
   ],
   "source": [
    "data_ultra['duration'].hist(bins=38, grid=True, figsize=(10,4))\n",
    "plt.axvspan(17, 20, color='red', alpha=0.5)\n",
    "plt.title(\"Распределение длительности поездок\")\n",
    "plt.xlabel(\"Длительность, мин.\")\n",
    "plt.ylabel(\"Частота встречаемости\")\n",
    "plt.show()"
   ]
  },
  {
   "cell_type": "markdown",
   "id": "596ea880",
   "metadata": {},
   "source": [
    "Среднее время поездки пользователей с подпиской составляет ~ 18 минут"
   ]
  },
  {
   "cell_type": "code",
   "execution_count": 15,
   "id": "bdc91609",
   "metadata": {},
   "outputs": [
    {
     "data": {
      "image/png": "[encoded data removed]",
      "text/plain": [
       "<Figure size 720x288 with 1 Axes>"
      ]
     },
     "metadata": {
      "needs_background": "light"
     },
     "output_type": "display_data"
    }
   ],
   "source": [
    "data_ultra['distance'].hist(bins=50, grid=True, figsize=(10,4))\n",
    "plt.axvspan(3000, 3200, color='red', alpha=0.5)\n",
    "plt.title(\"Распределение протяженности поездок\")\n",
    "plt.xlabel(\"Расстояние, м.\")\n",
    "plt.ylabel(\"Частота встречаемости\")\n",
    "plt.show()"
   ]
  },
  {
   "cell_type": "markdown",
   "id": "3303d03f",
   "metadata": {},
   "source": [
    "Пользователи с подпиской чаще всего совершают поездки протяженностью 3-3.2 км."
   ]
  },
  {
   "cell_type": "code",
   "execution_count": 16,
   "id": "0f7e848d",
   "metadata": {},
   "outputs": [
    {
     "data": {
      "text/html": [
       "<div>\n",
       "<style scoped>\n",
       "    .dataframe tbody tr th:only-of-type {\n",
       "        vertical-align: middle;\n",
       "    }\n",
       "\n",
       "    .dataframe tbody tr th {\n",
       "        vertical-align: top;\n",
       "    }\n",
       "\n",
       "    .dataframe thead th {\n",
       "        text-align: right;\n",
       "    }\n",
       "</style>\n",
       "<table border=\"1\" class=\"dataframe\">\n",
       "  <thead>\n",
       "    <tr style=\"text-align: right;\">\n",
       "      <th></th>\n",
       "      <th>user_id</th>\n",
       "      <th>name</th>\n",
       "      <th>age</th>\n",
       "      <th>city</th>\n",
       "      <th>subscription_type</th>\n",
       "      <th>distance</th>\n",
       "      <th>duration</th>\n",
       "      <th>date</th>\n",
       "      <th>month</th>\n",
       "      <th>minute_price</th>\n",
       "      <th>start_ride_price</th>\n",
       "      <th>subscription_fee</th>\n",
       "    </tr>\n",
       "  </thead>\n",
       "  <tbody>\n",
       "    <tr>\n",
       "      <th>6500</th>\n",
       "      <td>700</td>\n",
       "      <td>Айдар</td>\n",
       "      <td>22</td>\n",
       "      <td>Омск</td>\n",
       "      <td>free</td>\n",
       "      <td>2515.690719</td>\n",
       "      <td>15.0</td>\n",
       "      <td>2021-01-02</td>\n",
       "      <td>1</td>\n",
       "      <td>8</td>\n",
       "      <td>50</td>\n",
       "      <td>0</td>\n",
       "    </tr>\n",
       "    <tr>\n",
       "      <th>6501</th>\n",
       "      <td>700</td>\n",
       "      <td>Айдар</td>\n",
       "      <td>22</td>\n",
       "      <td>Омск</td>\n",
       "      <td>free</td>\n",
       "      <td>846.932642</td>\n",
       "      <td>17.0</td>\n",
       "      <td>2021-02-01</td>\n",
       "      <td>2</td>\n",
       "      <td>8</td>\n",
       "      <td>50</td>\n",
       "      <td>0</td>\n",
       "    </tr>\n",
       "    <tr>\n",
       "      <th>6502</th>\n",
       "      <td>700</td>\n",
       "      <td>Айдар</td>\n",
       "      <td>22</td>\n",
       "      <td>Омск</td>\n",
       "      <td>free</td>\n",
       "      <td>4004.434142</td>\n",
       "      <td>21.0</td>\n",
       "      <td>2021-02-04</td>\n",
       "      <td>2</td>\n",
       "      <td>8</td>\n",
       "      <td>50</td>\n",
       "      <td>0</td>\n",
       "    </tr>\n",
       "    <tr>\n",
       "      <th>6503</th>\n",
       "      <td>700</td>\n",
       "      <td>Айдар</td>\n",
       "      <td>22</td>\n",
       "      <td>Омск</td>\n",
       "      <td>free</td>\n",
       "      <td>1205.911290</td>\n",
       "      <td>10.0</td>\n",
       "      <td>2021-02-10</td>\n",
       "      <td>2</td>\n",
       "      <td>8</td>\n",
       "      <td>50</td>\n",
       "      <td>0</td>\n",
       "    </tr>\n",
       "    <tr>\n",
       "      <th>6504</th>\n",
       "      <td>700</td>\n",
       "      <td>Айдар</td>\n",
       "      <td>22</td>\n",
       "      <td>Омск</td>\n",
       "      <td>free</td>\n",
       "      <td>3047.379435</td>\n",
       "      <td>18.0</td>\n",
       "      <td>2021-02-14</td>\n",
       "      <td>2</td>\n",
       "      <td>8</td>\n",
       "      <td>50</td>\n",
       "      <td>0</td>\n",
       "    </tr>\n",
       "    <tr>\n",
       "      <th>...</th>\n",
       "      <td>...</td>\n",
       "      <td>...</td>\n",
       "      <td>...</td>\n",
       "      <td>...</td>\n",
       "      <td>...</td>\n",
       "      <td>...</td>\n",
       "      <td>...</td>\n",
       "      <td>...</td>\n",
       "      <td>...</td>\n",
       "      <td>...</td>\n",
       "      <td>...</td>\n",
       "      <td>...</td>\n",
       "    </tr>\n",
       "    <tr>\n",
       "      <th>18063</th>\n",
       "      <td>1534</td>\n",
       "      <td>Альберт</td>\n",
       "      <td>25</td>\n",
       "      <td>Краснодар</td>\n",
       "      <td>free</td>\n",
       "      <td>3781.098080</td>\n",
       "      <td>20.0</td>\n",
       "      <td>2021-11-04</td>\n",
       "      <td>11</td>\n",
       "      <td>8</td>\n",
       "      <td>50</td>\n",
       "      <td>0</td>\n",
       "    </tr>\n",
       "    <tr>\n",
       "      <th>18064</th>\n",
       "      <td>1534</td>\n",
       "      <td>Альберт</td>\n",
       "      <td>25</td>\n",
       "      <td>Краснодар</td>\n",
       "      <td>free</td>\n",
       "      <td>2840.423057</td>\n",
       "      <td>22.0</td>\n",
       "      <td>2021-11-16</td>\n",
       "      <td>11</td>\n",
       "      <td>8</td>\n",
       "      <td>50</td>\n",
       "      <td>0</td>\n",
       "    </tr>\n",
       "    <tr>\n",
       "      <th>18065</th>\n",
       "      <td>1534</td>\n",
       "      <td>Альберт</td>\n",
       "      <td>25</td>\n",
       "      <td>Краснодар</td>\n",
       "      <td>free</td>\n",
       "      <td>3826.185507</td>\n",
       "      <td>19.0</td>\n",
       "      <td>2021-11-18</td>\n",
       "      <td>11</td>\n",
       "      <td>8</td>\n",
       "      <td>50</td>\n",
       "      <td>0</td>\n",
       "    </tr>\n",
       "    <tr>\n",
       "      <th>18066</th>\n",
       "      <td>1534</td>\n",
       "      <td>Альберт</td>\n",
       "      <td>25</td>\n",
       "      <td>Краснодар</td>\n",
       "      <td>free</td>\n",
       "      <td>2902.308661</td>\n",
       "      <td>17.0</td>\n",
       "      <td>2021-11-27</td>\n",
       "      <td>11</td>\n",
       "      <td>8</td>\n",
       "      <td>50</td>\n",
       "      <td>0</td>\n",
       "    </tr>\n",
       "    <tr>\n",
       "      <th>18067</th>\n",
       "      <td>1534</td>\n",
       "      <td>Альберт</td>\n",
       "      <td>25</td>\n",
       "      <td>Краснодар</td>\n",
       "      <td>free</td>\n",
       "      <td>2371.711192</td>\n",
       "      <td>16.0</td>\n",
       "      <td>2021-12-29</td>\n",
       "      <td>12</td>\n",
       "      <td>8</td>\n",
       "      <td>50</td>\n",
       "      <td>0</td>\n",
       "    </tr>\n",
       "  </tbody>\n",
       "</table>\n",
       "<p>11568 rows × 12 columns</p>\n",
       "</div>"
      ],
      "text/plain": [
       "       user_id     name  age       city subscription_type     distance  \\\n",
       "6500       700    Айдар   22       Омск              free  2515.690719   \n",
       "6501       700    Айдар   22       Омск              free   846.932642   \n",
       "6502       700    Айдар   22       Омск              free  4004.434142   \n",
       "6503       700    Айдар   22       Омск              free  1205.911290   \n",
       "6504       700    Айдар   22       Омск              free  3047.379435   \n",
       "...        ...      ...  ...        ...               ...          ...   \n",
       "18063     1534  Альберт   25  Краснодар              free  3781.098080   \n",
       "18064     1534  Альберт   25  Краснодар              free  2840.423057   \n",
       "18065     1534  Альберт   25  Краснодар              free  3826.185507   \n",
       "18066     1534  Альберт   25  Краснодар              free  2902.308661   \n",
       "18067     1534  Альберт   25  Краснодар              free  2371.711192   \n",
       "\n",
       "       duration       date  month  minute_price  start_ride_price  \\\n",
       "6500       15.0 2021-01-02      1             8                50   \n",
       "6501       17.0 2021-02-01      2             8                50   \n",
       "6502       21.0 2021-02-04      2             8                50   \n",
       "6503       10.0 2021-02-10      2             8                50   \n",
       "6504       18.0 2021-02-14      2             8                50   \n",
       "...         ...        ...    ...           ...               ...   \n",
       "18063      20.0 2021-11-04     11             8                50   \n",
       "18064      22.0 2021-11-16     11             8                50   \n",
       "18065      19.0 2021-11-18     11             8                50   \n",
       "18066      17.0 2021-11-27     11             8                50   \n",
       "18067      16.0 2021-12-29     12             8                50   \n",
       "\n",
       "       subscription_fee  \n",
       "6500                  0  \n",
       "6501                  0  \n",
       "6502                  0  \n",
       "6503                  0  \n",
       "6504                  0  \n",
       "...                 ...  \n",
       "18063                 0  \n",
       "18064                 0  \n",
       "18065                 0  \n",
       "18066                 0  \n",
       "18067                 0  \n",
       "\n",
       "[11568 rows x 12 columns]"
      ]
     },
     "metadata": {},
     "output_type": "display_data"
    }
   ],
   "source": [
    "# Без подписки\n",
    "data_free = data[data['subscription_type'] == 'free']\n",
    "display(data_free)"
   ]
  },
  {
   "cell_type": "code",
   "execution_count": 17,
   "id": "c422bdfe",
   "metadata": {},
   "outputs": [
    {
     "data": {
      "image/png": "[encoded data removed]",
      "text/plain": [
       "<Figure size 720x288 with 1 Axes>"
      ]
     },
     "metadata": {
      "needs_background": "light"
     },
     "output_type": "display_data"
    }
   ],
   "source": [
    "data_free['duration'].hist(bins=35, grid=True, figsize=(10,4))\n",
    "plt.axvspan(17, 20, color='red', alpha=0.5)\n",
    "plt.title(\"Распределение длительности поездок\")\n",
    "plt.xlabel(\"Длительность, мин.\")\n",
    "plt.ylabel(\"Частота встречаемости\")\n",
    "plt.show()"
   ]
  },
  {
   "cell_type": "markdown",
   "id": "dd60aca5",
   "metadata": {},
   "source": [
    "Чаще всего пользователи без подписки совершают поездки длительностью 17-19 минут"
   ]
  },
  {
   "cell_type": "code",
   "execution_count": 18,
   "id": "ca309fb1",
   "metadata": {},
   "outputs": [
    {
     "data": {
      "image/png": "[encoded data removed]",
      "text/plain": [
       "<Figure size 720x288 with 1 Axes>"
      ]
     },
     "metadata": {
      "needs_background": "light"
     },
     "output_type": "display_data"
    }
   ],
   "source": [
    "data_free['distance'].hist(bins=60, grid=True, figsize=(10,4))\n",
    "plt.axvspan(2300, 2900, color='red', alpha=0.5)\n",
    "plt.title(\"Распределение протяженности поездок\")\n",
    "plt.xlabel(\"Расстояние, м.\")\n",
    "plt.ylabel(\"Частота встречаемости\")\n",
    "plt.show()"
   ]
  },
  {
   "cell_type": "markdown",
   "id": "292b61e5",
   "metadata": {},
   "source": [
    "Чаще всего расстояние поездки у пользователей без подписки составляет ~ 2.5 км."
   ]
  },
  {
   "cell_type": "markdown",
   "id": "ffe0daaa",
   "metadata": {},
   "source": [
    "Глядя на эти графики видно, что среднее время поездки пользователей обеих категорий примерно равно, а протяженность - разная. Пользователи с подпиской в среднем проезжают большее расстояние за поездку, чем пользователи без неё."
   ]
  },
  {
   "cell_type": "markdown",
   "id": "f71df099",
   "metadata": {},
   "source": [
    "#### Шаг 5. Подсчёт выручки"
   ]
  },
  {
   "cell_type": "markdown",
   "id": "ea2e231b",
   "metadata": {},
   "source": [
    "Создадим датафрейм с агрегированными данными о поездках на основе датафрейма с объединёнными данными из шага 4: найдём суммарное расстояние, количество поездок и суммарное время для каждого пользователя за каждый месяц."
   ]
  },
  {
   "cell_type": "code",
   "execution_count": 19,
   "id": "6f1245a9",
   "metadata": {},
   "outputs": [
    {
     "data": {
      "text/html": [
       "<div>\n",
       "<style scoped>\n",
       "    .dataframe tbody tr th:only-of-type {\n",
       "        vertical-align: middle;\n",
       "    }\n",
       "\n",
       "    .dataframe tbody tr th {\n",
       "        vertical-align: top;\n",
       "    }\n",
       "\n",
       "    .dataframe thead th {\n",
       "        text-align: right;\n",
       "    }\n",
       "</style>\n",
       "<table border=\"1\" class=\"dataframe\">\n",
       "  <thead>\n",
       "    <tr style=\"text-align: right;\">\n",
       "      <th></th>\n",
       "      <th></th>\n",
       "      <th>total_distance</th>\n",
       "      <th>total_duration</th>\n",
       "      <th>trip_count</th>\n",
       "      <th>subscription_type</th>\n",
       "    </tr>\n",
       "    <tr>\n",
       "      <th>user_id</th>\n",
       "      <th>month</th>\n",
       "      <th></th>\n",
       "      <th></th>\n",
       "      <th></th>\n",
       "      <th></th>\n",
       "    </tr>\n",
       "  </thead>\n",
       "  <tbody>\n",
       "    <tr>\n",
       "      <th rowspan=\"5\" valign=\"top\">1</th>\n",
       "      <th>1</th>\n",
       "      <td>7027.511294</td>\n",
       "      <td>42.0</td>\n",
       "      <td>2</td>\n",
       "      <td>ultra</td>\n",
       "    </tr>\n",
       "    <tr>\n",
       "      <th>4</th>\n",
       "      <td>754.159807</td>\n",
       "      <td>7.0</td>\n",
       "      <td>1</td>\n",
       "      <td>ultra</td>\n",
       "    </tr>\n",
       "    <tr>\n",
       "      <th>8</th>\n",
       "      <td>6723.470560</td>\n",
       "      <td>46.0</td>\n",
       "      <td>2</td>\n",
       "      <td>ultra</td>\n",
       "    </tr>\n",
       "    <tr>\n",
       "      <th>10</th>\n",
       "      <td>5809.911100</td>\n",
       "      <td>32.0</td>\n",
       "      <td>2</td>\n",
       "      <td>ultra</td>\n",
       "    </tr>\n",
       "    <tr>\n",
       "      <th>11</th>\n",
       "      <td>7003.499363</td>\n",
       "      <td>56.0</td>\n",
       "      <td>3</td>\n",
       "      <td>ultra</td>\n",
       "    </tr>\n",
       "    <tr>\n",
       "      <th>...</th>\n",
       "      <th>...</th>\n",
       "      <td>...</td>\n",
       "      <td>...</td>\n",
       "      <td>...</td>\n",
       "      <td>...</td>\n",
       "    </tr>\n",
       "    <tr>\n",
       "      <th rowspan=\"5\" valign=\"top\">1534</th>\n",
       "      <th>6</th>\n",
       "      <td>3409.468534</td>\n",
       "      <td>26.0</td>\n",
       "      <td>2</td>\n",
       "      <td>free</td>\n",
       "    </tr>\n",
       "    <tr>\n",
       "      <th>8</th>\n",
       "      <td>7622.453034</td>\n",
       "      <td>48.0</td>\n",
       "      <td>2</td>\n",
       "      <td>free</td>\n",
       "    </tr>\n",
       "    <tr>\n",
       "      <th>9</th>\n",
       "      <td>4928.173852</td>\n",
       "      <td>23.0</td>\n",
       "      <td>1</td>\n",
       "      <td>free</td>\n",
       "    </tr>\n",
       "    <tr>\n",
       "      <th>11</th>\n",
       "      <td>13350.015305</td>\n",
       "      <td>78.0</td>\n",
       "      <td>4</td>\n",
       "      <td>free</td>\n",
       "    </tr>\n",
       "    <tr>\n",
       "      <th>12</th>\n",
       "      <td>2371.711192</td>\n",
       "      <td>16.0</td>\n",
       "      <td>1</td>\n",
       "      <td>free</td>\n",
       "    </tr>\n",
       "  </tbody>\n",
       "</table>\n",
       "<p>11331 rows × 4 columns</p>\n",
       "</div>"
      ],
      "text/plain": [
       "               total_distance  total_duration  trip_count subscription_type\n",
       "user_id month                                                              \n",
       "1       1         7027.511294            42.0           2             ultra\n",
       "        4          754.159807             7.0           1             ultra\n",
       "        8         6723.470560            46.0           2             ultra\n",
       "        10        5809.911100            32.0           2             ultra\n",
       "        11        7003.499363            56.0           3             ultra\n",
       "...                       ...             ...         ...               ...\n",
       "1534    6         3409.468534            26.0           2              free\n",
       "        8         7622.453034            48.0           2              free\n",
       "        9         4928.173852            23.0           1              free\n",
       "        11       13350.015305            78.0           4              free\n",
       "        12        2371.711192            16.0           1              free\n",
       "\n",
       "[11331 rows x 4 columns]"
      ]
     },
     "metadata": {},
     "output_type": "display_data"
    }
   ],
   "source": [
    "sorted_data = data.pivot_table(index=['user_id', 'month'], values = ['distance', 'duration', 'name', 'subscription_type'], aggfunc={'distance':'sum', 'duration':'sum', 'name':'count', 'subscription_type': 'min'})\n",
    "sorted_data.columns = ['total_distance', 'total_duration', 'trip_count', 'subscription_type']\n",
    "display(sorted_data)\n"
   ]
  },
  {
   "cell_type": "code",
   "execution_count": 20,
   "id": "90438688",
   "metadata": {
    "scrolled": false
   },
   "outputs": [
    {
     "data": {
      "text/html": [
       "<div>\n",
       "<style scoped>\n",
       "    .dataframe tbody tr th:only-of-type {\n",
       "        vertical-align: middle;\n",
       "    }\n",
       "\n",
       "    .dataframe tbody tr th {\n",
       "        vertical-align: top;\n",
       "    }\n",
       "\n",
       "    .dataframe thead th {\n",
       "        text-align: right;\n",
       "    }\n",
       "</style>\n",
       "<table border=\"1\" class=\"dataframe\">\n",
       "  <thead>\n",
       "    <tr style=\"text-align: right;\">\n",
       "      <th></th>\n",
       "      <th>total_distance</th>\n",
       "      <th>total_duration</th>\n",
       "      <th>trip_count</th>\n",
       "      <th>subscription_type</th>\n",
       "      <th>minute_price</th>\n",
       "      <th>start_ride_price</th>\n",
       "      <th>subscription_fee</th>\n",
       "      <th>month</th>\n",
       "      <th>income</th>\n",
       "    </tr>\n",
       "  </thead>\n",
       "  <tbody>\n",
       "    <tr>\n",
       "      <th>0</th>\n",
       "      <td>7027.511294</td>\n",
       "      <td>42.0</td>\n",
       "      <td>2</td>\n",
       "      <td>ultra</td>\n",
       "      <td>6</td>\n",
       "      <td>0</td>\n",
       "      <td>199</td>\n",
       "      <td>1</td>\n",
       "      <td>451.0</td>\n",
       "    </tr>\n",
       "    <tr>\n",
       "      <th>1</th>\n",
       "      <td>754.159807</td>\n",
       "      <td>7.0</td>\n",
       "      <td>1</td>\n",
       "      <td>ultra</td>\n",
       "      <td>6</td>\n",
       "      <td>0</td>\n",
       "      <td>199</td>\n",
       "      <td>1</td>\n",
       "      <td>241.0</td>\n",
       "    </tr>\n",
       "    <tr>\n",
       "      <th>2</th>\n",
       "      <td>6723.470560</td>\n",
       "      <td>46.0</td>\n",
       "      <td>2</td>\n",
       "      <td>ultra</td>\n",
       "      <td>6</td>\n",
       "      <td>0</td>\n",
       "      <td>199</td>\n",
       "      <td>4</td>\n",
       "      <td>475.0</td>\n",
       "    </tr>\n",
       "    <tr>\n",
       "      <th>3</th>\n",
       "      <td>5809.911100</td>\n",
       "      <td>32.0</td>\n",
       "      <td>2</td>\n",
       "      <td>ultra</td>\n",
       "      <td>6</td>\n",
       "      <td>0</td>\n",
       "      <td>199</td>\n",
       "      <td>8</td>\n",
       "      <td>391.0</td>\n",
       "    </tr>\n",
       "    <tr>\n",
       "      <th>4</th>\n",
       "      <td>7003.499363</td>\n",
       "      <td>56.0</td>\n",
       "      <td>3</td>\n",
       "      <td>ultra</td>\n",
       "      <td>6</td>\n",
       "      <td>0</td>\n",
       "      <td>199</td>\n",
       "      <td>8</td>\n",
       "      <td>535.0</td>\n",
       "    </tr>\n",
       "    <tr>\n",
       "      <th>...</th>\n",
       "      <td>...</td>\n",
       "      <td>...</td>\n",
       "      <td>...</td>\n",
       "      <td>...</td>\n",
       "      <td>...</td>\n",
       "      <td>...</td>\n",
       "      <td>...</td>\n",
       "      <td>...</td>\n",
       "      <td>...</td>\n",
       "    </tr>\n",
       "    <tr>\n",
       "      <th>11326</th>\n",
       "      <td>3409.468534</td>\n",
       "      <td>26.0</td>\n",
       "      <td>2</td>\n",
       "      <td>free</td>\n",
       "      <td>8</td>\n",
       "      <td>50</td>\n",
       "      <td>0</td>\n",
       "      <td>11</td>\n",
       "      <td>308.0</td>\n",
       "    </tr>\n",
       "    <tr>\n",
       "      <th>11327</th>\n",
       "      <td>7622.453034</td>\n",
       "      <td>48.0</td>\n",
       "      <td>2</td>\n",
       "      <td>free</td>\n",
       "      <td>8</td>\n",
       "      <td>50</td>\n",
       "      <td>0</td>\n",
       "      <td>3</td>\n",
       "      <td>484.0</td>\n",
       "    </tr>\n",
       "    <tr>\n",
       "      <th>11328</th>\n",
       "      <td>4928.173852</td>\n",
       "      <td>23.0</td>\n",
       "      <td>1</td>\n",
       "      <td>free</td>\n",
       "      <td>8</td>\n",
       "      <td>50</td>\n",
       "      <td>0</td>\n",
       "      <td>4</td>\n",
       "      <td>234.0</td>\n",
       "    </tr>\n",
       "    <tr>\n",
       "      <th>11329</th>\n",
       "      <td>13350.015305</td>\n",
       "      <td>78.0</td>\n",
       "      <td>4</td>\n",
       "      <td>free</td>\n",
       "      <td>8</td>\n",
       "      <td>50</td>\n",
       "      <td>0</td>\n",
       "      <td>5</td>\n",
       "      <td>824.0</td>\n",
       "    </tr>\n",
       "    <tr>\n",
       "      <th>11330</th>\n",
       "      <td>2371.711192</td>\n",
       "      <td>16.0</td>\n",
       "      <td>1</td>\n",
       "      <td>free</td>\n",
       "      <td>8</td>\n",
       "      <td>50</td>\n",
       "      <td>0</td>\n",
       "      <td>6</td>\n",
       "      <td>178.0</td>\n",
       "    </tr>\n",
       "  </tbody>\n",
       "</table>\n",
       "<p>11331 rows × 9 columns</p>\n",
       "</div>"
      ],
      "text/plain": [
       "       total_distance  total_duration  trip_count subscription_type  \\\n",
       "0         7027.511294            42.0           2             ultra   \n",
       "1          754.159807             7.0           1             ultra   \n",
       "2         6723.470560            46.0           2             ultra   \n",
       "3         5809.911100            32.0           2             ultra   \n",
       "4         7003.499363            56.0           3             ultra   \n",
       "...               ...             ...         ...               ...   \n",
       "11326     3409.468534            26.0           2              free   \n",
       "11327     7622.453034            48.0           2              free   \n",
       "11328     4928.173852            23.0           1              free   \n",
       "11329    13350.015305            78.0           4              free   \n",
       "11330     2371.711192            16.0           1              free   \n",
       "\n",
       "       minute_price  start_ride_price  subscription_fee  month  income  \n",
       "0                 6                 0               199      1   451.0  \n",
       "1                 6                 0               199      1   241.0  \n",
       "2                 6                 0               199      4   475.0  \n",
       "3                 6                 0               199      8   391.0  \n",
       "4                 6                 0               199      8   535.0  \n",
       "...             ...               ...               ...    ...     ...  \n",
       "11326             8                50                 0     11   308.0  \n",
       "11327             8                50                 0      3   484.0  \n",
       "11328             8                50                 0      4   234.0  \n",
       "11329             8                50                 0      5   824.0  \n",
       "11330             8                50                 0      6   178.0  \n",
       "\n",
       "[11331 rows x 9 columns]"
      ]
     },
     "metadata": {},
     "output_type": "display_data"
    }
   ],
   "source": [
    "# Добавим столбец с помесячной выручкой от каждого пользователя\n",
    "sorted_income = sorted_data.merge(subscriptions_go , on = 'subscription_type')\n",
    "sorted_income['month'] = riders_go['date'].dt.month\n",
    "sorted_income['income'] = (sorted_income['start_ride_price'] * sorted_income['trip_count']) + (sorted_income['minute_price'] * sorted_income['total_duration']) + sorted_income['subscription_fee']\n",
    "\n",
    "display(sorted_income)"
   ]
  },
  {
   "cell_type": "markdown",
   "id": "5e6ba467",
   "metadata": {},
   "source": [
    "#### Шаг 6. Проверка гипотез"
   ]
  },
  {
   "cell_type": "markdown",
   "id": "c00e4a83",
   "metadata": {},
   "source": [
    "Нулевая гипогтеза: пользователи с подпиской и без тратят одинаковое время на поездки.\n",
    "Альтернативная гипотеза: пользователи с подпиской тратят на поездки больше времени, чем пользователи без подписки."
   ]
  },
  {
   "cell_type": "code",
   "execution_count": 21,
   "id": "b0cc03ae",
   "metadata": {},
   "outputs": [
    {
     "name": "stdout",
     "output_type": "stream",
     "text": [
      "p-значение: 2.4959453720736625e-34\n",
      "Отвергаем нулевую гипотезу\n",
      "Среднее время поездки пользователей с подпиской: 19.037692307692307\n",
      "Среднее время поездки пользователей без подписки: 17.890992392807746\n"
     ]
    }
   ],
   "source": [
    "sample_1 = data_ultra['duration']\n",
    "sample_2 = data_free['duration']\n",
    "alpha = 0.05\n",
    "results = st.ttest_ind(sample_1, sample_2, alternative = 'greater')\n",
    "print('p-значение:', results.pvalue)\n",
    "if results.pvalue < alpha:\n",
    "    print('Отвергаем нулевую гипотезу')\n",
    "else:\n",
    "    print('Не получилось отвергнуть нулевую гипотезу') \n",
    "print('Среднее время поездки пользователей с подпиской:', data_ultra['duration'].mean())\n",
    "print('Среднее время поездки пользователей без подписки:', data_free['duration'].mean())"
   ]
  },
  {
   "cell_type": "markdown",
   "id": "74f7aa4a",
   "metadata": {},
   "source": [
    "Вывод: пользователи с подпиской совершают более длительные поездки."
   ]
  },
  {
   "cell_type": "markdown",
   "id": "b08ba39b",
   "metadata": {},
   "source": [
    "Нулевая гипотеза: пользователи с подпиской проезжают 3130 метров\n",
    "Альтернативная гипотеза: пользователи с подпиской проезжают больше 3130 метров"
   ]
  },
  {
   "cell_type": "code",
   "execution_count": 22,
   "id": "7909be8d",
   "metadata": {},
   "outputs": [
    {
     "name": "stdout",
     "output_type": "stream",
     "text": [
      "p-value: 0.9195368847849785\n",
      "Не получилось отвергнуть нулевую гипотезу\n"
     ]
    }
   ],
   "source": [
    "interested_value = 3130\n",
    "alpha = 0.05\n",
    "results = st.ttest_1samp(data_ultra['distance'], interested_value, alternative = 'greater')\n",
    "print('p-value:', results.pvalue)\n",
    "if results.pvalue < alpha:\n",
    "    print('Отвергаем нулевую гипотезу')\n",
    "else:\n",
    "    print('Не получилось отвергнуть нулевую гипотезу')\n"
   ]
  },
  {
   "cell_type": "markdown",
   "id": "56e547ed",
   "metadata": {},
   "source": [
    "Вывод: пользователи с подпиской, скорее всего,  проезжают за одну поездку примерно 3130 метров"
   ]
  },
  {
   "cell_type": "markdown",
   "id": "7b669c45",
   "metadata": {},
   "source": [
    "Нулевая гипотеза: пользователи с подпиской и без приносят одинаковый доход.   \n",
    "Альтернативная гипотеза: пользователи с подпиской приносят больший доход, чем пользователи без подписки."
   ]
  },
  {
   "cell_type": "code",
   "execution_count": 23,
   "id": "295d972b",
   "metadata": {},
   "outputs": [
    {
     "name": "stdout",
     "output_type": "stream",
     "text": [
      "p-значение: 1.8850394384715216e-31\n",
      "Отвергаем нулевую гипотезу\n",
      "Средняя выручка от пользователей с подпиской: 362.7921906022502\n",
      "Средняя выручка от пользователей без подписки: 328.6413651073845\n"
     ]
    }
   ],
   "source": [
    "income_ultra = sorted_income[sorted_income['subscription_type'] == 'ultra']\n",
    "income_free = sorted_income[sorted_income['subscription_type'] == 'free']\n",
    "\n",
    "sample_1 = income_ultra['income']\n",
    "sample_2 = income_free['income']\n",
    "alpha = 0.05\n",
    "results = st.ttest_ind(sample_1, sample_2, alternative = 'greater')\n",
    "print('p-значение:', results.pvalue)\n",
    "if results.pvalue < alpha:\n",
    "    print('Отвергаем нулевую гипотезу')\n",
    "else:\n",
    "    print('Не получилось отвергнуть нулевую гипотезу') \n",
    "print('Средняя выручка от пользователей с подпиской:', income_ultra['income'].mean())\n",
    "print('Средняя выручка от пользователей без подписки:', income_free['income'].mean())"
   ]
  },
  {
   "cell_type": "markdown",
   "id": "ba7bc032",
   "metadata": {},
   "source": [
    "Вывод: доход от с подпиской выше, чем от пользователей без подписки."
   ]
  },
  {
   "cell_type": "markdown",
   "id": "39e4aeb5",
   "metadata": {},
   "source": [
    "Нулевая гипотеза: количество обращений равно   \n",
    "Альтернативная гипотеза: количество обращений после обновления значительно снизилось"
   ]
  },
  {
   "cell_type": "code",
   "execution_count": 26,
   "id": "aad94446",
   "metadata": {},
   "outputs": [
    {
     "ename": "TypeError",
     "evalue": "unsupported operand type(s) for -: 'ellipsis' and 'ellipsis'",
     "output_type": "error",
     "traceback": [
      "\u001b[0;31m---------------------------------------------------------------------------\u001b[0m",
      "\u001b[0;31mTypeError\u001b[0m                                 Traceback (most recent call last)",
      "\u001b[0;32m/tmp/ipykernel_126/2320719672.py\u001b[0m in \u001b[0;36m<module>\u001b[0;34m\u001b[0m\n\u001b[1;32m      2\u001b[0m \u001b[0mafter_update\u001b[0m \u001b[0;34m=\u001b[0m \u001b[0;34m[\u001b[0m\u001b[0;34m...\u001b[0m\u001b[0;34m]\u001b[0m\u001b[0;34m\u001b[0m\u001b[0;34m\u001b[0m\u001b[0m\n\u001b[1;32m      3\u001b[0m \u001b[0malpha\u001b[0m \u001b[0;34m=\u001b[0m \u001b[0;36m0.05\u001b[0m\u001b[0;34m\u001b[0m\u001b[0;34m\u001b[0m\u001b[0m\n\u001b[0;32m----> 4\u001b[0;31m \u001b[0mresults\u001b[0m \u001b[0;34m=\u001b[0m \u001b[0mst\u001b[0m\u001b[0;34m.\u001b[0m\u001b[0mttest_rel\u001b[0m\u001b[0;34m(\u001b[0m\u001b[0mbefore_update\u001b[0m\u001b[0;34m,\u001b[0m \u001b[0mafter_update\u001b[0m\u001b[0;34m)\u001b[0m\u001b[0;34m\u001b[0m\u001b[0;34m\u001b[0m\u001b[0m\n\u001b[0m\u001b[1;32m      5\u001b[0m \u001b[0mprint\u001b[0m\u001b[0;34m(\u001b[0m\u001b[0;34m'p-value:'\u001b[0m\u001b[0;34m,\u001b[0m \u001b[0mresults\u001b[0m\u001b[0;34m.\u001b[0m\u001b[0mpvalue\u001b[0m\u001b[0;34m)\u001b[0m\u001b[0;34m\u001b[0m\u001b[0;34m\u001b[0m\u001b[0m\n\u001b[1;32m      6\u001b[0m \u001b[0;32mif\u001b[0m \u001b[0mresults\u001b[0m\u001b[0;34m.\u001b[0m\u001b[0mpvalue\u001b[0m \u001b[0;34m<\u001b[0m \u001b[0malpha\u001b[0m\u001b[0;34m:\u001b[0m\u001b[0;34m\u001b[0m\u001b[0;34m\u001b[0m\u001b[0m\n",
      "\u001b[0;32m/opt/conda/lib/python3.9/site-packages/scipy/stats/_stats_py.py\u001b[0m in \u001b[0;36mttest_rel\u001b[0;34m(a, b, axis, nan_policy, alternative)\u001b[0m\n\u001b[1;32m   6901\u001b[0m     \u001b[0mdf\u001b[0m \u001b[0;34m=\u001b[0m \u001b[0mn\u001b[0m \u001b[0;34m-\u001b[0m \u001b[0;36m1\u001b[0m\u001b[0;34m\u001b[0m\u001b[0;34m\u001b[0m\u001b[0m\n\u001b[1;32m   6902\u001b[0m \u001b[0;34m\u001b[0m\u001b[0m\n\u001b[0;32m-> 6903\u001b[0;31m     \u001b[0md\u001b[0m \u001b[0;34m=\u001b[0m \u001b[0;34m(\u001b[0m\u001b[0ma\u001b[0m \u001b[0;34m-\u001b[0m \u001b[0mb\u001b[0m\u001b[0;34m)\u001b[0m\u001b[0;34m.\u001b[0m\u001b[0mastype\u001b[0m\u001b[0;34m(\u001b[0m\u001b[0mnp\u001b[0m\u001b[0;34m.\u001b[0m\u001b[0mfloat64\u001b[0m\u001b[0;34m)\u001b[0m\u001b[0;34m\u001b[0m\u001b[0;34m\u001b[0m\u001b[0m\n\u001b[0m\u001b[1;32m   6904\u001b[0m     \u001b[0mv\u001b[0m \u001b[0;34m=\u001b[0m \u001b[0m_var\u001b[0m\u001b[0;34m(\u001b[0m\u001b[0md\u001b[0m\u001b[0;34m,\u001b[0m \u001b[0maxis\u001b[0m\u001b[0;34m,\u001b[0m \u001b[0mddof\u001b[0m\u001b[0;34m=\u001b[0m\u001b[0;36m1\u001b[0m\u001b[0;34m)\u001b[0m\u001b[0;34m\u001b[0m\u001b[0;34m\u001b[0m\u001b[0m\n\u001b[1;32m   6905\u001b[0m     \u001b[0mdm\u001b[0m \u001b[0;34m=\u001b[0m \u001b[0mnp\u001b[0m\u001b[0;34m.\u001b[0m\u001b[0mmean\u001b[0m\u001b[0;34m(\u001b[0m\u001b[0md\u001b[0m\u001b[0;34m,\u001b[0m \u001b[0maxis\u001b[0m\u001b[0;34m)\u001b[0m\u001b[0;34m\u001b[0m\u001b[0;34m\u001b[0m\u001b[0m\n",
      "\u001b[0;31mTypeError\u001b[0m: unsupported operand type(s) for -: 'ellipsis' and 'ellipsis'"
     ]
    }
   ],
   "source": [
    "before_update = [...]\n",
    "after_update = [...]\n",
    "alpha = 0.05\n",
    "results = st.ttest_rel(before_update, after_update, alternative = 'less')\n",
    "print('p-value:', results.pvalue)\n",
    "if results.pvalue < alpha:\n",
    "    print('Отвергаем Н0 о равенстве количества обращений')\n",
    "else:\n",
    "    print('Не удалось опровергнуть Н0')"
   ]
  },
  {
   "cell_type": "markdown",
   "id": "ee16ebee",
   "metadata": {},
   "source": [
    "#### Шаг 7. Распределения"
   ]
  },
  {
   "cell_type": "markdown",
   "id": "51e0ce94",
   "metadata": {},
   "source": [
    "Вывод: в данной работе я анализировал данные о сервисе аренды самокатов. Сначала я загрузил исходные данные, проверил на пропуски, удалил дубликаты. Зтем визуализировал и исследовал общую информацию о пользователях и поездках. На данном этапе было определено, что: чаще всего сервисом пользовались в Пятигорске; соотношение пользователей с подпиской к пользователям без подписки равняется 54.4% на 45.6% соответственно;средний возраст пользователей - 25 лет; за проездку пользователи в среднем преодолевают 3.1 км; поездка в среднем длится 17-19 минут. Дальше я объединил все исходные данные в одну таблицу, округлил время продолжительности поездок, создал из получившейся таблицы две раздельных по пользователям с подпиской и без. Затем исследовал информацию о длительности и протяженности поездок для обоих типов пользователей и получил следующие результаты: среднее время поездки у них оказалось примерно одинаковым, но протяженность оказалась большей у пользователей с подпиской. Потом я создал таблицу с суммарным расстоянием, количеством поездок и временем для каждого пользователя за каждый месяц. В эту же таблицу добавил столбец с помесячной выручкой от каждого пользователя. Затем я проверял представленные гипотезы и на основе проверки выявил, что: пользователи с подпиской совершают поездки дольшей продолжительности, проезжают за поездку в среднем примерно 3130 метров, и приносят больший доход."
   ]
  }
 ],
 "metadata": {
  "ExecuteTimeLog": [
   {
    "duration": 46,
    "start_time": "2023-06-09T18:16:47.412Z"
   },
   {
    "duration": 1251,
    "start_time": "2023-06-09T18:16:57.964Z"
   },
   {
    "duration": 137,
    "start_time": "2023-06-09T18:17:00.236Z"
   },
   {
    "duration": 246,
    "start_time": "2023-06-09T18:17:45.133Z"
   },
   {
    "duration": 104,
    "start_time": "2023-06-09T18:18:02.563Z"
   },
   {
    "duration": 6,
    "start_time": "2023-06-09T18:19:12.566Z"
   },
   {
    "duration": 29,
    "start_time": "2023-06-09T18:19:28.480Z"
   },
   {
    "duration": 9,
    "start_time": "2023-06-09T18:20:04.735Z"
   },
   {
    "duration": 24,
    "start_time": "2023-06-09T18:20:30.951Z"
   },
   {
    "duration": 12,
    "start_time": "2023-06-09T18:21:14.831Z"
   },
   {
    "duration": 96,
    "start_time": "2023-06-09T18:22:05.313Z"
   },
   {
    "duration": 110,
    "start_time": "2023-06-09T18:24:14.738Z"
   },
   {
    "duration": 205,
    "start_time": "2023-06-09T18:24:36.326Z"
   },
   {
    "duration": 153,
    "start_time": "2023-06-09T18:24:50.429Z"
   },
   {
    "duration": 119,
    "start_time": "2023-06-09T18:25:12.531Z"
   },
   {
    "duration": 128,
    "start_time": "2023-06-09T18:26:12.411Z"
   },
   {
    "duration": 117,
    "start_time": "2023-06-09T18:26:31.165Z"
   },
   {
    "duration": 13,
    "start_time": "2023-06-09T18:29:59.432Z"
   },
   {
    "duration": 20,
    "start_time": "2023-06-09T18:30:17.505Z"
   },
   {
    "duration": 19,
    "start_time": "2023-06-09T18:31:33.410Z"
   },
   {
    "duration": 120,
    "start_time": "2023-06-09T18:35:26.922Z"
   },
   {
    "duration": 14,
    "start_time": "2023-06-09T18:35:37.757Z"
   },
   {
    "duration": 17,
    "start_time": "2023-06-09T18:36:06.907Z"
   },
   {
    "duration": 25,
    "start_time": "2023-06-09T18:36:16.222Z"
   },
   {
    "duration": 11,
    "start_time": "2023-06-09T18:36:38.741Z"
   },
   {
    "duration": 14,
    "start_time": "2023-06-09T18:37:04.110Z"
   },
   {
    "duration": 11,
    "start_time": "2023-06-09T18:37:34.515Z"
   },
   {
    "duration": 1781,
    "start_time": "2023-06-09T18:40:31.020Z"
   },
   {
    "duration": 1952,
    "start_time": "2023-06-09T18:41:03.319Z"
   },
   {
    "duration": 3918,
    "start_time": "2023-06-09T18:59:13.839Z"
   },
   {
    "duration": 3547,
    "start_time": "2023-06-09T18:59:20.463Z"
   },
   {
    "duration": 2395,
    "start_time": "2023-06-09T19:00:23.523Z"
   },
   {
    "duration": 22,
    "start_time": "2023-06-09T19:01:10.612Z"
   },
   {
    "duration": 10,
    "start_time": "2023-06-09T19:01:30.267Z"
   },
   {
    "duration": 17,
    "start_time": "2023-06-09T19:01:42.913Z"
   },
   {
    "duration": 15,
    "start_time": "2023-06-09T19:02:53.783Z"
   },
   {
    "duration": 19,
    "start_time": "2023-06-09T19:04:45.209Z"
   },
   {
    "duration": 28,
    "start_time": "2023-06-09T19:05:30.310Z"
   },
   {
    "duration": 66,
    "start_time": "2023-06-09T19:07:56.258Z"
   },
   {
    "duration": 23,
    "start_time": "2023-06-09T19:11:47.611Z"
   },
   {
    "duration": 19,
    "start_time": "2023-06-09T19:12:14.015Z"
   },
   {
    "duration": 102,
    "start_time": "2023-06-09T19:14:55.629Z"
   },
   {
    "duration": 43,
    "start_time": "2023-06-09T19:16:02.427Z"
   },
   {
    "duration": 11,
    "start_time": "2023-06-09T19:17:54.111Z"
   },
   {
    "duration": 63,
    "start_time": "2023-06-10T21:03:38.509Z"
   },
   {
    "duration": 1339,
    "start_time": "2023-06-10T21:03:46.596Z"
   },
   {
    "duration": 649,
    "start_time": "2023-06-10T21:03:47.937Z"
   },
   {
    "duration": 541,
    "start_time": "2023-06-10T21:03:48.588Z"
   },
   {
    "duration": 0,
    "start_time": "2023-06-10T21:03:49.130Z"
   },
   {
    "duration": 3028,
    "start_time": "2023-06-11T18:05:35.584Z"
   },
   {
    "duration": 420,
    "start_time": "2023-06-11T18:05:38.614Z"
   },
   {
    "duration": 1473,
    "start_time": "2023-06-11T18:05:39.037Z"
   },
   {
    "duration": 0,
    "start_time": "2023-06-11T18:05:40.515Z"
   },
   {
    "duration": 1460,
    "start_time": "2023-06-11T18:06:03.663Z"
   },
   {
    "duration": 2174,
    "start_time": "2023-06-11T18:07:12.680Z"
   },
   {
    "duration": 55,
    "start_time": "2023-06-11T18:07:33.328Z"
   },
   {
    "duration": 63,
    "start_time": "2023-06-11T18:08:06.280Z"
   },
   {
    "duration": 24,
    "start_time": "2023-06-11T18:08:20.537Z"
   },
   {
    "duration": 18,
    "start_time": "2023-06-11T18:10:56.929Z"
   },
   {
    "duration": 66,
    "start_time": "2023-06-11T18:11:26.774Z"
   },
   {
    "duration": 6,
    "start_time": "2023-06-11T18:11:59.228Z"
   },
   {
    "duration": 37,
    "start_time": "2023-06-11T18:17:18.761Z"
   },
   {
    "duration": 248,
    "start_time": "2023-06-11T18:19:09.166Z"
   },
   {
    "duration": 172,
    "start_time": "2023-06-11T18:19:22.938Z"
   },
   {
    "duration": 196,
    "start_time": "2023-06-11T18:20:25.652Z"
   },
   {
    "duration": 256,
    "start_time": "2023-06-11T18:20:33.864Z"
   },
   {
    "duration": 19,
    "start_time": "2023-06-11T18:23:36.661Z"
   },
   {
    "duration": 28,
    "start_time": "2023-06-11T18:23:48.889Z"
   },
   {
    "duration": 238,
    "start_time": "2023-06-11T18:24:16.569Z"
   },
   {
    "duration": 8,
    "start_time": "2023-06-11T19:52:34.059Z"
   },
   {
    "duration": 59,
    "start_time": "2023-06-11T19:52:55.511Z"
   },
   {
    "duration": 21,
    "start_time": "2023-06-11T20:01:17.684Z"
   },
   {
    "duration": 38,
    "start_time": "2023-06-11T20:03:57.884Z"
   },
   {
    "duration": 21,
    "start_time": "2023-06-11T20:04:33.166Z"
   },
   {
    "duration": 216,
    "start_time": "2023-06-11T20:04:49.567Z"
   },
   {
    "duration": 217,
    "start_time": "2023-06-11T20:05:00.554Z"
   },
   {
    "duration": 270,
    "start_time": "2023-06-11T20:05:07.074Z"
   },
   {
    "duration": 193,
    "start_time": "2023-06-11T20:08:13.767Z"
   },
   {
    "duration": 140,
    "start_time": "2023-06-11T20:08:19.607Z"
   },
   {
    "duration": 134,
    "start_time": "2023-06-11T20:08:27.977Z"
   },
   {
    "duration": 191,
    "start_time": "2023-06-11T20:10:19.350Z"
   },
   {
    "duration": 206,
    "start_time": "2023-06-11T20:10:28.024Z"
   },
   {
    "duration": 232,
    "start_time": "2023-06-11T20:10:34.250Z"
   },
   {
    "duration": 250,
    "start_time": "2023-06-11T20:10:43.315Z"
   },
   {
    "duration": 205,
    "start_time": "2023-06-11T20:10:48.921Z"
   },
   {
    "duration": 217,
    "start_time": "2023-06-11T20:12:17.227Z"
   },
   {
    "duration": 253,
    "start_time": "2023-06-11T20:12:25.209Z"
   },
   {
    "duration": 268,
    "start_time": "2023-06-11T20:12:35.965Z"
   },
   {
    "duration": 202,
    "start_time": "2023-06-11T20:12:40.959Z"
   },
   {
    "duration": 261,
    "start_time": "2023-06-11T20:14:24.039Z"
   },
   {
    "duration": 253,
    "start_time": "2023-06-11T20:14:34.058Z"
   },
   {
    "duration": 1571,
    "start_time": "2023-06-12T11:49:36.753Z"
   },
   {
    "duration": 482,
    "start_time": "2023-06-12T11:49:38.326Z"
   },
   {
    "duration": 34,
    "start_time": "2023-06-12T11:49:38.811Z"
   },
   {
    "duration": 9,
    "start_time": "2023-06-12T11:49:38.847Z"
   },
   {
    "duration": 242,
    "start_time": "2023-06-12T11:49:38.859Z"
   },
   {
    "duration": 189,
    "start_time": "2023-06-12T11:49:39.103Z"
   },
   {
    "duration": 193,
    "start_time": "2023-06-12T11:49:39.295Z"
   },
   {
    "duration": 229,
    "start_time": "2023-06-12T11:49:39.497Z"
   },
   {
    "duration": 290,
    "start_time": "2023-06-12T11:49:39.728Z"
   },
   {
    "duration": 19,
    "start_time": "2023-06-12T11:59:20.582Z"
   },
   {
    "duration": 28,
    "start_time": "2023-06-12T11:59:34.986Z"
   },
   {
    "duration": 40,
    "start_time": "2023-06-12T12:00:39.688Z"
   },
   {
    "duration": 33,
    "start_time": "2023-06-12T12:00:54.682Z"
   },
   {
    "duration": 112,
    "start_time": "2023-06-12T12:16:22.893Z"
   },
   {
    "duration": 12,
    "start_time": "2023-06-12T12:16:28.856Z"
   },
   {
    "duration": 22,
    "start_time": "2023-06-12T12:17:15.743Z"
   },
   {
    "duration": 19,
    "start_time": "2023-06-12T12:17:50.713Z"
   },
   {
    "duration": 215,
    "start_time": "2023-06-12T12:19:16.050Z"
   },
   {
    "duration": 247,
    "start_time": "2023-06-12T12:19:39.003Z"
   },
   {
    "duration": 211,
    "start_time": "2023-06-12T12:20:41.467Z"
   },
   {
    "duration": 323,
    "start_time": "2023-06-12T12:21:07.380Z"
   },
   {
    "duration": 865,
    "start_time": "2023-06-12T12:21:24.884Z"
   },
   {
    "duration": 191,
    "start_time": "2023-06-12T12:21:29.692Z"
   },
   {
    "duration": 188,
    "start_time": "2023-06-12T12:21:59.075Z"
   },
   {
    "duration": 185,
    "start_time": "2023-06-12T12:23:48.507Z"
   },
   {
    "duration": 164,
    "start_time": "2023-06-12T12:24:48.166Z"
   },
   {
    "duration": 794,
    "start_time": "2023-06-12T12:32:31.986Z"
   },
   {
    "duration": 720,
    "start_time": "2023-06-12T12:34:39.796Z"
   },
   {
    "duration": 19,
    "start_time": "2023-06-12T12:47:59.517Z"
   },
   {
    "duration": 9,
    "start_time": "2023-06-12T12:55:44.390Z"
   },
   {
    "duration": 20,
    "start_time": "2023-06-12T12:57:58.666Z"
   },
   {
    "duration": 851,
    "start_time": "2023-06-12T13:01:14.870Z"
   },
   {
    "duration": 21,
    "start_time": "2023-06-12T13:01:44.577Z"
   },
   {
    "duration": 24,
    "start_time": "2023-06-12T13:02:34.658Z"
   },
   {
    "duration": 4,
    "start_time": "2023-06-12T14:21:02.955Z"
   },
   {
    "duration": 16,
    "start_time": "2023-06-12T14:47:50.398Z"
   },
   {
    "duration": 7,
    "start_time": "2023-06-12T14:48:26.992Z"
   },
   {
    "duration": 8,
    "start_time": "2023-06-12T14:51:06.098Z"
   },
   {
    "duration": 7,
    "start_time": "2023-06-12T14:51:13.475Z"
   },
   {
    "duration": 5,
    "start_time": "2023-06-12T14:54:01.120Z"
   },
   {
    "duration": 7,
    "start_time": "2023-06-12T14:55:38.636Z"
   },
   {
    "duration": 7,
    "start_time": "2023-06-12T14:56:19.215Z"
   },
   {
    "duration": 8,
    "start_time": "2023-06-12T15:02:07.545Z"
   },
   {
    "duration": 1092,
    "start_time": "2023-06-12T15:13:49.145Z"
   },
   {
    "duration": 810,
    "start_time": "2023-06-12T15:14:23.091Z"
   },
   {
    "duration": 19,
    "start_time": "2023-06-12T15:14:32.483Z"
   },
   {
    "duration": 1003,
    "start_time": "2023-06-12T15:14:54.411Z"
   },
   {
    "duration": 39,
    "start_time": "2023-06-12T15:16:10.652Z"
   },
   {
    "duration": 978,
    "start_time": "2023-06-12T15:17:14.381Z"
   },
   {
    "duration": 40,
    "start_time": "2023-06-12T15:17:58.374Z"
   },
   {
    "duration": 15,
    "start_time": "2023-06-12T17:41:31.467Z"
   },
   {
    "duration": 2,
    "start_time": "2023-06-12T19:40:59.347Z"
   },
   {
    "duration": 129,
    "start_time": "2023-06-12T19:40:59.351Z"
   },
   {
    "duration": 20,
    "start_time": "2023-06-12T19:40:59.482Z"
   },
   {
    "duration": 4,
    "start_time": "2023-06-12T19:40:59.504Z"
   },
   {
    "duration": 182,
    "start_time": "2023-06-12T19:40:59.509Z"
   },
   {
    "duration": 228,
    "start_time": "2023-06-12T19:40:59.692Z"
   },
   {
    "duration": 176,
    "start_time": "2023-06-12T19:40:59.922Z"
   },
   {
    "duration": 196,
    "start_time": "2023-06-12T19:41:00.100Z"
   },
   {
    "duration": 250,
    "start_time": "2023-06-12T19:41:00.299Z"
   },
   {
    "duration": 34,
    "start_time": "2023-06-12T19:41:00.554Z"
   },
   {
    "duration": 29,
    "start_time": "2023-06-12T19:41:00.590Z"
   },
   {
    "duration": 225,
    "start_time": "2023-06-12T19:41:00.621Z"
   },
   {
    "duration": 188,
    "start_time": "2023-06-12T19:41:00.848Z"
   },
   {
    "duration": 31,
    "start_time": "2023-06-12T19:41:01.037Z"
   },
   {
    "duration": 196,
    "start_time": "2023-06-12T19:41:01.069Z"
   },
   {
    "duration": 210,
    "start_time": "2023-06-12T19:41:01.268Z"
   },
   {
    "duration": 809,
    "start_time": "2023-06-12T19:41:01.480Z"
   },
   {
    "duration": 17,
    "start_time": "2023-06-12T19:41:02.290Z"
   },
   {
    "duration": 0,
    "start_time": "2023-06-12T19:41:02.309Z"
   },
   {
    "duration": 0,
    "start_time": "2023-06-12T19:41:02.310Z"
   },
   {
    "duration": 0,
    "start_time": "2023-06-12T19:41:02.311Z"
   },
   {
    "duration": 0,
    "start_time": "2023-06-12T19:41:02.312Z"
   },
   {
    "duration": 0,
    "start_time": "2023-06-12T19:41:02.313Z"
   },
   {
    "duration": 0,
    "start_time": "2023-06-12T19:41:02.314Z"
   },
   {
    "duration": 36,
    "start_time": "2023-06-12T20:03:22.743Z"
   },
   {
    "duration": 18,
    "start_time": "2023-06-12T20:09:28.381Z"
   },
   {
    "duration": 798,
    "start_time": "2023-06-12T20:09:45.031Z"
   },
   {
    "duration": 23,
    "start_time": "2023-06-12T20:10:00.679Z"
   },
   {
    "duration": 26,
    "start_time": "2023-06-12T20:10:10.860Z"
   },
   {
    "duration": 19,
    "start_time": "2023-06-12T20:10:17.076Z"
   },
   {
    "duration": 848,
    "start_time": "2023-06-12T20:15:01.168Z"
   },
   {
    "duration": 14,
    "start_time": "2023-06-12T20:15:10.384Z"
   },
   {
    "duration": 838,
    "start_time": "2023-06-12T20:15:38.581Z"
   },
   {
    "duration": 22,
    "start_time": "2023-06-12T20:15:45.169Z"
   },
   {
    "duration": 777,
    "start_time": "2023-06-12T20:17:07.591Z"
   },
   {
    "duration": 30,
    "start_time": "2023-06-12T20:17:19.735Z"
   },
   {
    "duration": 1466,
    "start_time": "2023-06-13T05:40:02.455Z"
   },
   {
    "duration": 414,
    "start_time": "2023-06-13T05:40:03.925Z"
   },
   {
    "duration": 25,
    "start_time": "2023-06-13T05:40:04.342Z"
   },
   {
    "duration": 5,
    "start_time": "2023-06-13T05:40:04.369Z"
   },
   {
    "duration": 211,
    "start_time": "2023-06-13T05:40:04.376Z"
   },
   {
    "duration": 140,
    "start_time": "2023-06-13T05:40:04.589Z"
   },
   {
    "duration": 205,
    "start_time": "2023-06-13T05:40:04.737Z"
   },
   {
    "duration": 257,
    "start_time": "2023-06-13T05:40:04.944Z"
   },
   {
    "duration": 281,
    "start_time": "2023-06-13T05:40:05.202Z"
   },
   {
    "duration": 54,
    "start_time": "2023-06-13T05:40:05.485Z"
   },
   {
    "duration": 24,
    "start_time": "2023-06-13T05:40:05.541Z"
   },
   {
    "duration": 282,
    "start_time": "2023-06-13T05:40:05.567Z"
   },
   {
    "duration": 238,
    "start_time": "2023-06-13T05:40:05.851Z"
   },
   {
    "duration": 22,
    "start_time": "2023-06-13T05:40:06.091Z"
   },
   {
    "duration": 308,
    "start_time": "2023-06-13T05:40:06.125Z"
   },
   {
    "duration": 224,
    "start_time": "2023-06-13T05:40:06.434Z"
   },
   {
    "duration": 926,
    "start_time": "2023-06-13T05:40:06.659Z"
   },
   {
    "duration": 23,
    "start_time": "2023-06-13T05:40:07.586Z"
   },
   {
    "duration": 33,
    "start_time": "2023-06-13T05:40:07.611Z"
   },
   {
    "duration": 54,
    "start_time": "2023-06-13T05:40:07.647Z"
   },
   {
    "duration": 0,
    "start_time": "2023-06-13T05:40:07.703Z"
   },
   {
    "duration": 0,
    "start_time": "2023-06-13T05:40:07.705Z"
   },
   {
    "duration": 0,
    "start_time": "2023-06-13T05:40:07.706Z"
   },
   {
    "duration": 0,
    "start_time": "2023-06-13T05:40:07.709Z"
   },
   {
    "duration": 21,
    "start_time": "2023-06-13T05:42:55.239Z"
   },
   {
    "duration": 42,
    "start_time": "2023-06-13T05:43:25.903Z"
   },
   {
    "duration": 956,
    "start_time": "2023-06-13T05:47:18.604Z"
   },
   {
    "duration": 33,
    "start_time": "2023-06-13T05:47:30.283Z"
   },
   {
    "duration": 70,
    "start_time": "2023-06-13T05:47:49.733Z"
   },
   {
    "duration": 28,
    "start_time": "2023-06-13T05:50:26.888Z"
   },
   {
    "duration": 42,
    "start_time": "2023-06-13T05:51:05.239Z"
   },
   {
    "duration": 37,
    "start_time": "2023-06-13T05:57:11.405Z"
   },
   {
    "duration": 29,
    "start_time": "2023-06-13T05:58:12.255Z"
   },
   {
    "duration": 36,
    "start_time": "2023-06-13T05:58:28.103Z"
   },
   {
    "duration": 30,
    "start_time": "2023-06-13T05:59:48.593Z"
   },
   {
    "duration": 46,
    "start_time": "2023-06-13T06:00:09.497Z"
   },
   {
    "duration": 33,
    "start_time": "2023-06-13T06:00:25.177Z"
   },
   {
    "duration": 29,
    "start_time": "2023-06-13T06:01:38.962Z"
   },
   {
    "duration": 1013,
    "start_time": "2023-06-13T06:05:59.798Z"
   },
   {
    "duration": 15,
    "start_time": "2023-06-13T06:06:06.442Z"
   },
   {
    "duration": 9,
    "start_time": "2023-06-13T06:07:27.512Z"
   },
   {
    "duration": 16,
    "start_time": "2023-06-13T06:07:44.740Z"
   },
   {
    "duration": 17,
    "start_time": "2023-06-13T06:08:02.639Z"
   },
   {
    "duration": 980,
    "start_time": "2023-06-13T06:13:00.925Z"
   },
   {
    "duration": 11,
    "start_time": "2023-06-13T06:13:10.146Z"
   },
   {
    "duration": 40,
    "start_time": "2023-06-13T06:13:20.511Z"
   },
   {
    "duration": 1273,
    "start_time": "2023-06-13T06:14:29.809Z"
   },
   {
    "duration": 27,
    "start_time": "2023-06-13T06:15:05.570Z"
   },
   {
    "duration": 1419,
    "start_time": "2023-06-13T06:16:31.860Z"
   },
   {
    "duration": 59,
    "start_time": "2023-06-13T06:16:36.588Z"
   },
   {
    "duration": 1323,
    "start_time": "2023-06-13T06:16:40.485Z"
   },
   {
    "duration": 49,
    "start_time": "2023-06-13T06:17:11.257Z"
   },
   {
    "duration": 39,
    "start_time": "2023-06-13T06:23:55.643Z"
   },
   {
    "duration": 2,
    "start_time": "2023-06-13T06:25:57.774Z"
   },
   {
    "duration": 132,
    "start_time": "2023-06-13T06:25:57.778Z"
   },
   {
    "duration": 31,
    "start_time": "2023-06-13T06:25:57.912Z"
   },
   {
    "duration": 5,
    "start_time": "2023-06-13T06:25:57.945Z"
   },
   {
    "duration": 209,
    "start_time": "2023-06-13T06:25:57.953Z"
   },
   {
    "duration": 133,
    "start_time": "2023-06-13T06:25:58.164Z"
   },
   {
    "duration": 191,
    "start_time": "2023-06-13T06:25:58.299Z"
   },
   {
    "duration": 237,
    "start_time": "2023-06-13T06:25:58.492Z"
   },
   {
    "duration": 260,
    "start_time": "2023-06-13T06:25:58.741Z"
   },
   {
    "duration": 47,
    "start_time": "2023-06-13T06:25:59.003Z"
   },
   {
    "duration": 26,
    "start_time": "2023-06-13T06:25:59.052Z"
   },
   {
    "duration": 252,
    "start_time": "2023-06-13T06:25:59.080Z"
   },
   {
    "duration": 307,
    "start_time": "2023-06-13T06:25:59.342Z"
   },
   {
    "duration": 24,
    "start_time": "2023-06-13T06:25:59.653Z"
   },
   {
    "duration": 300,
    "start_time": "2023-06-13T06:25:59.680Z"
   },
   {
    "duration": 236,
    "start_time": "2023-06-13T06:25:59.983Z"
   },
   {
    "duration": 962,
    "start_time": "2023-06-13T06:26:00.221Z"
   },
   {
    "duration": 18,
    "start_time": "2023-06-13T06:26:01.185Z"
   },
   {
    "duration": 64,
    "start_time": "2023-06-13T06:26:01.205Z"
   },
   {
    "duration": 50,
    "start_time": "2023-06-13T06:26:01.271Z"
   },
   {
    "duration": 58,
    "start_time": "2023-06-13T06:26:01.323Z"
   },
   {
    "duration": 55,
    "start_time": "2023-06-13T06:26:01.383Z"
   },
   {
    "duration": 0,
    "start_time": "2023-06-13T06:26:01.440Z"
   },
   {
    "duration": 4,
    "start_time": "2023-06-13T06:27:56.840Z"
   },
   {
    "duration": 130,
    "start_time": "2023-06-13T06:27:56.847Z"
   },
   {
    "duration": 23,
    "start_time": "2023-06-13T06:27:56.979Z"
   },
   {
    "duration": 40,
    "start_time": "2023-06-13T06:27:57.005Z"
   },
   {
    "duration": 212,
    "start_time": "2023-06-13T06:27:57.047Z"
   },
   {
    "duration": 140,
    "start_time": "2023-06-13T06:27:57.261Z"
   },
   {
    "duration": 187,
    "start_time": "2023-06-13T06:27:57.402Z"
   },
   {
    "duration": 277,
    "start_time": "2023-06-13T06:27:57.591Z"
   },
   {
    "duration": 294,
    "start_time": "2023-06-13T06:27:57.869Z"
   },
   {
    "duration": 33,
    "start_time": "2023-06-13T06:27:58.166Z"
   },
   {
    "duration": 45,
    "start_time": "2023-06-13T06:27:58.201Z"
   },
   {
    "duration": 356,
    "start_time": "2023-06-13T06:27:58.248Z"
   },
   {
    "duration": 218,
    "start_time": "2023-06-13T06:27:58.606Z"
   },
   {
    "duration": 31,
    "start_time": "2023-06-13T06:27:58.829Z"
   },
   {
    "duration": 226,
    "start_time": "2023-06-13T06:27:58.862Z"
   },
   {
    "duration": 235,
    "start_time": "2023-06-13T06:27:59.090Z"
   },
   {
    "duration": 973,
    "start_time": "2023-06-13T06:27:59.333Z"
   },
   {
    "duration": 32,
    "start_time": "2023-06-13T06:28:00.308Z"
   },
   {
    "duration": 31,
    "start_time": "2023-06-13T06:28:00.342Z"
   },
   {
    "duration": 107,
    "start_time": "2023-06-13T06:28:00.375Z"
   },
   {
    "duration": 131,
    "start_time": "2023-06-13T06:28:00.484Z"
   },
   {
    "duration": 202,
    "start_time": "2023-06-13T06:28:00.616Z"
   },
   {
    "duration": 0,
    "start_time": "2023-06-13T06:28:00.819Z"
   },
   {
    "duration": 18,
    "start_time": "2023-06-13T06:28:30.359Z"
   },
   {
    "duration": 3,
    "start_time": "2023-06-13T06:29:39.587Z"
   },
   {
    "duration": 196,
    "start_time": "2023-06-13T06:29:39.592Z"
   },
   {
    "duration": 48,
    "start_time": "2023-06-13T06:29:39.790Z"
   },
   {
    "duration": 11,
    "start_time": "2023-06-13T06:29:39.840Z"
   },
   {
    "duration": 231,
    "start_time": "2023-06-13T06:29:39.853Z"
   },
   {
    "duration": 161,
    "start_time": "2023-06-13T06:29:40.087Z"
   },
   {
    "duration": 207,
    "start_time": "2023-06-13T06:29:40.255Z"
   },
   {
    "duration": 230,
    "start_time": "2023-06-13T06:29:40.464Z"
   },
   {
    "duration": 285,
    "start_time": "2023-06-13T06:29:40.696Z"
   },
   {
    "duration": 56,
    "start_time": "2023-06-13T06:29:40.985Z"
   },
   {
    "duration": 35,
    "start_time": "2023-06-13T06:29:41.048Z"
   },
   {
    "duration": 404,
    "start_time": "2023-06-13T06:29:41.085Z"
   },
   {
    "duration": 229,
    "start_time": "2023-06-13T06:29:41.490Z"
   },
   {
    "duration": 28,
    "start_time": "2023-06-13T06:29:41.727Z"
   },
   {
    "duration": 239,
    "start_time": "2023-06-13T06:29:41.757Z"
   },
   {
    "duration": 258,
    "start_time": "2023-06-13T06:29:41.998Z"
   },
   {
    "duration": 947,
    "start_time": "2023-06-13T06:29:42.258Z"
   },
   {
    "duration": 1092,
    "start_time": "2023-06-13T06:29:43.207Z"
   },
   {
    "duration": 0,
    "start_time": "2023-06-13T06:29:44.301Z"
   },
   {
    "duration": 0,
    "start_time": "2023-06-13T06:29:44.303Z"
   },
   {
    "duration": 0,
    "start_time": "2023-06-13T06:29:44.304Z"
   },
   {
    "duration": 0,
    "start_time": "2023-06-13T06:29:44.305Z"
   },
   {
    "duration": 0,
    "start_time": "2023-06-13T06:29:44.306Z"
   },
   {
    "duration": 978,
    "start_time": "2023-06-13T06:30:08.097Z"
   },
   {
    "duration": 32,
    "start_time": "2023-06-13T06:33:43.736Z"
   },
   {
    "duration": 29,
    "start_time": "2023-06-13T06:33:52.149Z"
   },
   {
    "duration": 6,
    "start_time": "2023-06-13T06:35:16.784Z"
   },
   {
    "duration": 47,
    "start_time": "2023-06-13T06:36:17.200Z"
   },
   {
    "duration": 47,
    "start_time": "2023-06-13T06:50:25.795Z"
   },
   {
    "duration": 43,
    "start_time": "2023-06-13T06:51:00.251Z"
   },
   {
    "duration": 46,
    "start_time": "2023-06-13T06:51:36.468Z"
   },
   {
    "duration": 83,
    "start_time": "2023-06-13T06:52:47.503Z"
   },
   {
    "duration": 84,
    "start_time": "2023-06-13T06:53:05.388Z"
   },
   {
    "duration": 58,
    "start_time": "2023-06-13T06:54:29.948Z"
   },
   {
    "duration": 7,
    "start_time": "2023-06-13T07:02:43.385Z"
   },
   {
    "duration": 216,
    "start_time": "2023-06-13T07:03:16.272Z"
   },
   {
    "duration": 21,
    "start_time": "2023-06-13T07:04:41.267Z"
   },
   {
    "duration": 8,
    "start_time": "2023-06-13T07:05:13.450Z"
   },
   {
    "duration": 12,
    "start_time": "2023-06-13T07:05:39.762Z"
   },
   {
    "duration": 14,
    "start_time": "2023-06-13T07:08:39.741Z"
   },
   {
    "duration": 9,
    "start_time": "2023-06-13T07:11:00.374Z"
   },
   {
    "duration": 12,
    "start_time": "2023-06-13T07:12:39.554Z"
   },
   {
    "duration": 9,
    "start_time": "2023-06-13T07:12:50.484Z"
   },
   {
    "duration": 994,
    "start_time": "2023-06-13T07:13:09.870Z"
   },
   {
    "duration": 16,
    "start_time": "2023-06-13T07:13:24.817Z"
   },
   {
    "duration": 6,
    "start_time": "2023-06-13T07:17:22.179Z"
   },
   {
    "duration": 8,
    "start_time": "2023-06-13T07:18:38.953Z"
   },
   {
    "duration": 47,
    "start_time": "2023-06-13T07:19:56.762Z"
   },
   {
    "duration": 20,
    "start_time": "2023-06-13T07:20:19.656Z"
   },
   {
    "duration": 9,
    "start_time": "2023-06-13T07:20:51.519Z"
   },
   {
    "duration": 5,
    "start_time": "2023-06-13T07:20:56.071Z"
   },
   {
    "duration": 150,
    "start_time": "2023-06-13T07:20:56.078Z"
   },
   {
    "duration": 56,
    "start_time": "2023-06-13T07:20:56.230Z"
   },
   {
    "duration": 7,
    "start_time": "2023-06-13T07:20:56.288Z"
   },
   {
    "duration": 18,
    "start_time": "2023-06-13T07:20:56.298Z"
   },
   {
    "duration": 31,
    "start_time": "2023-06-13T07:20:56.318Z"
   },
   {
    "duration": 232,
    "start_time": "2023-06-13T07:20:56.357Z"
   },
   {
    "duration": 163,
    "start_time": "2023-06-13T07:20:56.591Z"
   },
   {
    "duration": 219,
    "start_time": "2023-06-13T07:20:56.757Z"
   },
   {
    "duration": 285,
    "start_time": "2023-06-13T07:20:56.978Z"
   },
   {
    "duration": 315,
    "start_time": "2023-06-13T07:20:57.265Z"
   },
   {
    "duration": 52,
    "start_time": "2023-06-13T07:20:57.583Z"
   },
   {
    "duration": 46,
    "start_time": "2023-06-13T07:20:57.637Z"
   },
   {
    "duration": 326,
    "start_time": "2023-06-13T07:20:57.687Z"
   },
   {
    "duration": 329,
    "start_time": "2023-06-13T07:20:58.014Z"
   },
   {
    "duration": 31,
    "start_time": "2023-06-13T07:20:58.347Z"
   },
   {
    "duration": 490,
    "start_time": "2023-06-13T07:20:58.382Z"
   },
   {
    "duration": 279,
    "start_time": "2023-06-13T07:20:58.874Z"
   },
   {
    "duration": 1258,
    "start_time": "2023-06-13T07:20:59.155Z"
   },
   {
    "duration": 57,
    "start_time": "2023-06-13T07:21:00.415Z"
   },
   {
    "duration": 19,
    "start_time": "2023-06-13T07:21:00.474Z"
   },
   {
    "duration": 79,
    "start_time": "2023-06-13T07:21:00.496Z"
   },
   {
    "duration": 613,
    "start_time": "2023-06-13T07:21:00.580Z"
   },
   {
    "duration": 88,
    "start_time": "2023-06-13T07:21:01.195Z"
   },
   {
    "duration": 0,
    "start_time": "2023-06-13T07:21:01.285Z"
   },
   {
    "duration": 9,
    "start_time": "2023-06-13T07:22:13.843Z"
   },
   {
    "duration": 6,
    "start_time": "2023-06-13T07:22:21.600Z"
   },
   {
    "duration": 1892,
    "start_time": "2023-06-13T12:42:32.852Z"
   },
   {
    "duration": 284,
    "start_time": "2023-06-13T12:42:34.747Z"
   },
   {
    "duration": 38,
    "start_time": "2023-06-13T12:42:35.042Z"
   },
   {
    "duration": 9,
    "start_time": "2023-06-13T12:42:35.083Z"
   },
   {
    "duration": 47,
    "start_time": "2023-06-13T12:42:35.094Z"
   },
   {
    "duration": 11,
    "start_time": "2023-06-13T12:42:35.144Z"
   },
   {
    "duration": 316,
    "start_time": "2023-06-13T12:42:35.158Z"
   },
   {
    "duration": 212,
    "start_time": "2023-06-13T12:42:35.476Z"
   },
   {
    "duration": 318,
    "start_time": "2023-06-13T12:42:35.690Z"
   },
   {
    "duration": 348,
    "start_time": "2023-06-13T12:42:36.012Z"
   },
   {
    "duration": 388,
    "start_time": "2023-06-13T12:42:36.362Z"
   },
   {
    "duration": 52,
    "start_time": "2023-06-13T12:42:36.752Z"
   },
   {
    "duration": 55,
    "start_time": "2023-06-13T12:42:36.807Z"
   },
   {
    "duration": 330,
    "start_time": "2023-06-13T12:42:36.866Z"
   },
   {
    "duration": 326,
    "start_time": "2023-06-13T12:42:37.198Z"
   },
   {
    "duration": 39,
    "start_time": "2023-06-13T12:42:37.527Z"
   },
   {
    "duration": 274,
    "start_time": "2023-06-13T12:42:37.568Z"
   },
   {
    "duration": 227,
    "start_time": "2023-06-13T12:42:37.845Z"
   },
   {
    "duration": 1176,
    "start_time": "2023-06-13T12:42:38.073Z"
   },
   {
    "duration": 43,
    "start_time": "2023-06-13T12:42:39.251Z"
   },
   {
    "duration": 13,
    "start_time": "2023-06-13T12:42:39.296Z"
   },
   {
    "duration": 13,
    "start_time": "2023-06-13T12:42:39.312Z"
   },
   {
    "duration": 122,
    "start_time": "2023-06-13T12:42:39.329Z"
   },
   {
    "duration": 176,
    "start_time": "2023-06-13T12:42:39.453Z"
   },
   {
    "duration": 10,
    "start_time": "2023-06-13T12:47:25.557Z"
   },
   {
    "duration": 1309,
    "start_time": "2023-06-13T12:58:22.389Z"
   },
   {
    "duration": 179,
    "start_time": "2023-06-13T12:58:23.701Z"
   },
   {
    "duration": 39,
    "start_time": "2023-06-13T12:58:23.882Z"
   },
   {
    "duration": 16,
    "start_time": "2023-06-13T12:58:23.942Z"
   },
   {
    "duration": 28,
    "start_time": "2023-06-13T12:58:23.961Z"
   },
   {
    "duration": 17,
    "start_time": "2023-06-13T12:58:23.992Z"
   },
   {
    "duration": 308,
    "start_time": "2023-06-13T12:58:24.012Z"
   },
   {
    "duration": 192,
    "start_time": "2023-06-13T12:58:24.322Z"
   },
   {
    "duration": 297,
    "start_time": "2023-06-13T12:58:24.517Z"
   },
   {
    "duration": 333,
    "start_time": "2023-06-13T12:58:24.816Z"
   },
   {
    "duration": 395,
    "start_time": "2023-06-13T12:58:25.156Z"
   },
   {
    "duration": 52,
    "start_time": "2023-06-13T12:58:25.553Z"
   },
   {
    "duration": 53,
    "start_time": "2023-06-13T12:58:25.607Z"
   },
   {
    "duration": 333,
    "start_time": "2023-06-13T12:58:25.667Z"
   },
   {
    "duration": 310,
    "start_time": "2023-06-13T12:58:26.003Z"
   },
   {
    "duration": 47,
    "start_time": "2023-06-13T12:58:26.315Z"
   },
   {
    "duration": 439,
    "start_time": "2023-06-13T12:58:26.366Z"
   },
   {
    "duration": 349,
    "start_time": "2023-06-13T12:58:26.808Z"
   },
   {
    "duration": 1606,
    "start_time": "2023-06-13T12:58:27.161Z"
   },
   {
    "duration": 36,
    "start_time": "2023-06-13T12:58:28.769Z"
   },
   {
    "duration": 8,
    "start_time": "2023-06-13T12:58:28.808Z"
   },
   {
    "duration": 30,
    "start_time": "2023-06-13T12:58:28.819Z"
   },
   {
    "duration": 129,
    "start_time": "2023-06-13T12:58:28.851Z"
   },
   {
    "duration": 172,
    "start_time": "2023-06-13T12:58:28.987Z"
   },
   {
    "duration": 49,
    "start_time": "2023-06-13T16:55:17.085Z"
   },
   {
    "duration": 1432,
    "start_time": "2023-06-13T16:55:21.921Z"
   },
   {
    "duration": 516,
    "start_time": "2023-06-13T16:55:23.355Z"
   },
   {
    "duration": 31,
    "start_time": "2023-06-13T16:55:23.873Z"
   },
   {
    "duration": 5,
    "start_time": "2023-06-13T16:55:23.906Z"
   },
   {
    "duration": 8,
    "start_time": "2023-06-13T16:55:23.914Z"
   },
   {
    "duration": 36,
    "start_time": "2023-06-13T16:55:23.924Z"
   },
   {
    "duration": 268,
    "start_time": "2023-06-13T16:55:23.966Z"
   },
   {
    "duration": 163,
    "start_time": "2023-06-13T16:55:24.236Z"
   },
   {
    "duration": 219,
    "start_time": "2023-06-13T16:55:24.401Z"
   },
   {
    "duration": 217,
    "start_time": "2023-06-13T16:55:24.622Z"
   },
   {
    "duration": 258,
    "start_time": "2023-06-13T16:55:24.841Z"
   },
   {
    "duration": 34,
    "start_time": "2023-06-13T16:55:25.101Z"
   },
   {
    "duration": 41,
    "start_time": "2023-06-13T16:55:25.137Z"
   },
   {
    "duration": 227,
    "start_time": "2023-06-13T16:55:25.180Z"
   },
   {
    "duration": 214,
    "start_time": "2023-06-13T16:55:25.410Z"
   },
   {
    "duration": 33,
    "start_time": "2023-06-13T16:55:25.626Z"
   },
   {
    "duration": 309,
    "start_time": "2023-06-13T16:55:25.661Z"
   },
   {
    "duration": 217,
    "start_time": "2023-06-13T16:55:25.972Z"
   },
   {
    "duration": 885,
    "start_time": "2023-06-13T16:55:26.191Z"
   },
   {
    "duration": 32,
    "start_time": "2023-06-13T16:55:27.078Z"
   },
   {
    "duration": 5,
    "start_time": "2023-06-13T16:55:27.112Z"
   },
   {
    "duration": 14,
    "start_time": "2023-06-13T16:55:27.118Z"
   },
   {
    "duration": 77,
    "start_time": "2023-06-13T16:55:27.133Z"
   },
   {
    "duration": 84,
    "start_time": "2023-06-13T16:55:27.211Z"
   },
   {
    "duration": 209,
    "start_time": "2023-06-13T17:00:10.319Z"
   },
   {
    "duration": 251,
    "start_time": "2023-06-13T17:00:54.230Z"
   },
   {
    "duration": 151,
    "start_time": "2023-06-13T17:11:25.142Z"
   },
   {
    "duration": 68,
    "start_time": "2023-06-13T17:13:32.719Z"
   },
   {
    "duration": 150,
    "start_time": "2023-06-13T17:13:52.578Z"
   },
   {
    "duration": 102,
    "start_time": "2023-06-13T17:18:17.487Z"
   },
   {
    "duration": 358,
    "start_time": "2023-06-13T17:24:25.726Z"
   },
   {
    "duration": 326,
    "start_time": "2023-06-13T17:26:43.235Z"
   },
   {
    "duration": 451,
    "start_time": "2023-06-13T17:27:02.323Z"
   },
   {
    "duration": 329,
    "start_time": "2023-06-13T17:50:08.940Z"
   },
   {
    "duration": 379,
    "start_time": "2023-06-13T17:51:22.919Z"
   },
   {
    "duration": 404,
    "start_time": "2023-06-13T17:55:45.708Z"
   },
   {
    "duration": 465,
    "start_time": "2023-06-13T17:56:01.869Z"
   },
   {
    "duration": 399,
    "start_time": "2023-06-13T17:56:09.810Z"
   },
   {
    "duration": 45,
    "start_time": "2023-06-13T18:05:43.629Z"
   },
   {
    "duration": 528,
    "start_time": "2023-06-13T18:11:36.817Z"
   },
   {
    "duration": 333,
    "start_time": "2023-06-13T18:12:59.787Z"
   },
   {
    "duration": 354,
    "start_time": "2023-06-13T18:13:33.931Z"
   },
   {
    "duration": 376,
    "start_time": "2023-06-13T18:13:41.244Z"
   },
   {
    "duration": 316,
    "start_time": "2023-06-13T18:13:57.284Z"
   },
   {
    "duration": 351,
    "start_time": "2023-06-13T18:14:09.013Z"
   },
   {
    "duration": 406,
    "start_time": "2023-06-13T18:16:30.222Z"
   },
   {
    "duration": 488,
    "start_time": "2023-06-13T18:16:45.159Z"
   },
   {
    "duration": 388,
    "start_time": "2023-06-13T18:17:06.903Z"
   },
   {
    "duration": 358,
    "start_time": "2023-06-13T18:17:13.647Z"
   },
   {
    "duration": 376,
    "start_time": "2023-06-13T18:18:56.506Z"
   },
   {
    "duration": 333,
    "start_time": "2023-06-13T18:19:45.450Z"
   },
   {
    "duration": 376,
    "start_time": "2023-06-13T18:20:26.191Z"
   },
   {
    "duration": 384,
    "start_time": "2023-06-13T18:20:33.202Z"
   },
   {
    "duration": 613,
    "start_time": "2023-06-13T18:20:38.748Z"
   },
   {
    "duration": 42,
    "start_time": "2023-06-13T18:25:52.910Z"
   },
   {
    "duration": 3,
    "start_time": "2023-06-13T18:26:01.397Z"
   },
   {
    "duration": 178,
    "start_time": "2023-06-13T18:26:01.403Z"
   },
   {
    "duration": 31,
    "start_time": "2023-06-13T18:26:01.583Z"
   },
   {
    "duration": 22,
    "start_time": "2023-06-13T18:26:01.616Z"
   },
   {
    "duration": 18,
    "start_time": "2023-06-13T18:26:01.651Z"
   },
   {
    "duration": 58,
    "start_time": "2023-06-13T18:26:01.671Z"
   },
   {
    "duration": 309,
    "start_time": "2023-06-13T18:26:01.732Z"
   },
   {
    "duration": 107,
    "start_time": "2023-06-13T18:26:02.043Z"
   },
   {
    "duration": 307,
    "start_time": "2023-06-13T18:26:02.155Z"
   },
   {
    "duration": 350,
    "start_time": "2023-06-13T18:26:02.470Z"
   },
   {
    "duration": 386,
    "start_time": "2023-06-13T18:26:02.822Z"
   },
   {
    "duration": 54,
    "start_time": "2023-06-13T18:26:03.209Z"
   },
   {
    "duration": 25,
    "start_time": "2023-06-13T18:26:03.269Z"
   },
   {
    "duration": 385,
    "start_time": "2023-06-13T18:26:03.296Z"
   },
   {
    "duration": 474,
    "start_time": "2023-06-13T18:26:03.683Z"
   },
   {
    "duration": 32,
    "start_time": "2023-06-13T18:26:04.165Z"
   },
   {
    "duration": 417,
    "start_time": "2023-06-13T18:26:04.199Z"
   },
   {
    "duration": 355,
    "start_time": "2023-06-13T18:26:04.619Z"
   },
   {
    "duration": 904,
    "start_time": "2023-06-13T18:26:04.976Z"
   },
   {
    "duration": 26,
    "start_time": "2023-06-13T18:26:05.882Z"
   },
   {
    "duration": 5,
    "start_time": "2023-06-13T18:26:05.910Z"
   },
   {
    "duration": 6,
    "start_time": "2023-06-13T18:26:05.917Z"
   },
   {
    "duration": 84,
    "start_time": "2023-06-13T18:26:05.925Z"
   },
   {
    "duration": 11,
    "start_time": "2023-06-13T18:26:06.013Z"
   },
   {
    "duration": 367,
    "start_time": "2023-06-13T18:26:20.231Z"
   },
   {
    "duration": 346,
    "start_time": "2023-06-13T18:26:25.743Z"
   },
   {
    "duration": 371,
    "start_time": "2023-06-13T18:26:34.195Z"
   },
   {
    "duration": 297,
    "start_time": "2023-06-13T18:26:40.475Z"
   },
   {
    "duration": 862,
    "start_time": "2023-06-13T18:26:57.047Z"
   },
   {
    "duration": 338,
    "start_time": "2023-06-13T18:27:01.648Z"
   },
   {
    "duration": 338,
    "start_time": "2023-06-13T18:27:17.640Z"
   },
   {
    "duration": 310,
    "start_time": "2023-06-13T18:27:47.651Z"
   },
   {
    "duration": 311,
    "start_time": "2023-06-13T18:27:53.600Z"
   },
   {
    "duration": 330,
    "start_time": "2023-06-13T18:28:10.816Z"
   },
   {
    "duration": 350,
    "start_time": "2023-06-13T18:28:16.624Z"
   },
   {
    "duration": 7,
    "start_time": "2023-06-13T18:35:45.897Z"
   },
   {
    "duration": 9,
    "start_time": "2023-06-13T18:37:40.186Z"
   },
   {
    "duration": 7,
    "start_time": "2023-06-13T18:38:57.630Z"
   },
   {
    "duration": 8,
    "start_time": "2023-06-13T18:41:18.088Z"
   },
   {
    "duration": 15,
    "start_time": "2023-06-13T18:52:19.131Z"
   },
   {
    "duration": 13,
    "start_time": "2023-06-13T18:54:11.807Z"
   },
   {
    "duration": 1100,
    "start_time": "2023-06-14T13:29:58.995Z"
   },
   {
    "duration": 349,
    "start_time": "2023-06-14T13:30:00.097Z"
   },
   {
    "duration": 21,
    "start_time": "2023-06-14T13:30:00.448Z"
   },
   {
    "duration": 18,
    "start_time": "2023-06-14T13:30:00.472Z"
   },
   {
    "duration": 49,
    "start_time": "2023-06-14T13:30:00.492Z"
   },
   {
    "duration": 47,
    "start_time": "2023-06-14T13:30:00.542Z"
   },
   {
    "duration": 211,
    "start_time": "2023-06-14T13:30:00.591Z"
   },
   {
    "duration": 89,
    "start_time": "2023-06-14T13:30:00.804Z"
   },
   {
    "duration": 261,
    "start_time": "2023-06-14T13:30:00.895Z"
   },
   {
    "duration": 318,
    "start_time": "2023-06-14T13:30:01.159Z"
   },
   {
    "duration": 414,
    "start_time": "2023-06-14T13:30:01.479Z"
   },
   {
    "duration": 34,
    "start_time": "2023-06-14T13:30:01.894Z"
   },
   {
    "duration": 37,
    "start_time": "2023-06-14T13:30:01.929Z"
   },
   {
    "duration": 292,
    "start_time": "2023-06-14T13:30:01.968Z"
   },
   {
    "duration": 319,
    "start_time": "2023-06-14T13:30:02.262Z"
   },
   {
    "duration": 20,
    "start_time": "2023-06-14T13:30:02.582Z"
   },
   {
    "duration": 385,
    "start_time": "2023-06-14T13:30:02.604Z"
   },
   {
    "duration": 324,
    "start_time": "2023-06-14T13:30:02.991Z"
   },
   {
    "duration": 831,
    "start_time": "2023-06-14T13:30:03.316Z"
   },
   {
    "duration": 25,
    "start_time": "2023-06-14T13:30:04.149Z"
   },
   {
    "duration": 6,
    "start_time": "2023-06-14T13:30:04.175Z"
   },
   {
    "duration": 40,
    "start_time": "2023-06-14T13:30:04.183Z"
   },
   {
    "duration": 25,
    "start_time": "2023-06-14T13:30:04.224Z"
   },
   {
    "duration": 126,
    "start_time": "2023-06-14T13:30:04.250Z"
   },
   {
    "duration": 21,
    "start_time": "2023-06-14T13:32:46.333Z"
   },
   {
    "duration": 1161,
    "start_time": "2024-03-08T17:59:47.685Z"
   },
   {
    "duration": 237,
    "start_time": "2024-03-08T17:59:48.848Z"
   },
   {
    "duration": 24,
    "start_time": "2024-03-08T17:59:49.086Z"
   },
   {
    "duration": 6,
    "start_time": "2024-03-08T17:59:49.123Z"
   },
   {
    "duration": 32,
    "start_time": "2024-03-08T17:59:49.130Z"
   },
   {
    "duration": 16,
    "start_time": "2024-03-08T17:59:49.163Z"
   },
   {
    "duration": 199,
    "start_time": "2024-03-08T17:59:49.181Z"
   },
   {
    "duration": 92,
    "start_time": "2024-03-08T17:59:49.382Z"
   },
   {
    "duration": 352,
    "start_time": "2024-03-08T17:59:49.476Z"
   },
   {
    "duration": 321,
    "start_time": "2024-03-08T17:59:49.832Z"
   },
   {
    "duration": 404,
    "start_time": "2024-03-08T17:59:50.155Z"
   },
   {
    "duration": 39,
    "start_time": "2024-03-08T17:59:50.560Z"
   },
   {
    "duration": 37,
    "start_time": "2024-03-08T17:59:50.601Z"
   },
   {
    "duration": 317,
    "start_time": "2024-03-08T17:59:50.639Z"
   },
   {
    "duration": 327,
    "start_time": "2024-03-08T17:59:50.958Z"
   },
   {
    "duration": 21,
    "start_time": "2024-03-08T17:59:51.286Z"
   },
   {
    "duration": 434,
    "start_time": "2024-03-08T17:59:51.309Z"
   },
   {
    "duration": 309,
    "start_time": "2024-03-08T17:59:51.745Z"
   },
   {
    "duration": 868,
    "start_time": "2024-03-08T17:59:52.056Z"
   },
   {
    "duration": 26,
    "start_time": "2024-03-08T17:59:52.926Z"
   },
   {
    "duration": 7,
    "start_time": "2024-03-08T17:59:52.954Z"
   },
   {
    "duration": 27,
    "start_time": "2024-03-08T17:59:52.963Z"
   },
   {
    "duration": 40,
    "start_time": "2024-03-08T17:59:52.991Z"
   },
   {
    "duration": 111,
    "start_time": "2024-03-08T17:59:53.033Z"
   },
   {
    "duration": 11,
    "start_time": "2024-03-08T18:04:33.541Z"
   },
   {
    "duration": 11,
    "start_time": "2024-03-08T18:04:44.795Z"
   }
  ],
  "kernelspec": {
   "display_name": "Python 3 (ipykernel)",
   "language": "python",
   "name": "python3"
  },
  "language_info": {
   "codemirror_mode": {
    "name": "ipython",
    "version": 3
   },
   "file_extension": ".py",
   "mimetype": "text/x-python",
   "name": "python",
   "nbconvert_exporter": "python",
   "pygments_lexer": "ipython3",
   "version": "3.9.5"
  },
  "toc": {
   "base_numbering": 1,
   "nav_menu": {},
   "number_sections": true,
   "sideBar": true,
   "skip_h1_title": true,
   "title_cell": "Table of Contents",
   "title_sidebar": "Contents",
   "toc_cell": false,
   "toc_position": {},
   "toc_section_display": true,
   "toc_window_display": false
  }
 },
 "nbformat": 4,
 "nbformat_minor": 5
}
